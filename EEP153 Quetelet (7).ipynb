{
 "cells": [
  {
   "cell_type": "code",
   "execution_count": 1,
   "id": "f9dbe4cf",
   "metadata": {
    "scrolled": false
   },
   "outputs": [
    {
     "name": "stdout",
     "output_type": "stream",
     "text": [
      "Collecting wbdata\n",
      "  Using cached wbdata-0.3.0-py3-none-any.whl (14 kB)\n",
      "Requirement already satisfied: requests>=2.0 in /opt/conda/lib/python3.9/site-packages (from wbdata) (2.26.0)\n",
      "Requirement already satisfied: tabulate>=0.8.5 in /opt/conda/lib/python3.9/site-packages (from wbdata) (0.9.0)\n",
      "Requirement already satisfied: decorator>=4.0 in /opt/conda/lib/python3.9/site-packages (from wbdata) (5.0.9)\n",
      "Requirement already satisfied: appdirs<2.0,>=1.4 in /opt/conda/lib/python3.9/site-packages (from wbdata) (1.4.4)\n",
      "Requirement already satisfied: urllib3<1.27,>=1.21.1 in /opt/conda/lib/python3.9/site-packages (from requests>=2.0->wbdata) (1.26.7)\n",
      "Requirement already satisfied: charset-normalizer~=2.0.0 in /opt/conda/lib/python3.9/site-packages (from requests>=2.0->wbdata) (2.0.0)\n",
      "Requirement already satisfied: certifi>=2017.4.17 in /opt/conda/lib/python3.9/site-packages (from requests>=2.0->wbdata) (2021.10.8)\n",
      "Requirement already satisfied: idna<4,>=2.5 in /opt/conda/lib/python3.9/site-packages (from requests>=2.0->wbdata) (3.1)\n",
      "Installing collected packages: wbdata\n",
      "Successfully installed wbdata-0.3.0\n"
     ]
    },
    {
     "name": "stderr",
     "output_type": "stream",
     "text": [
      "/opt/conda/lib/python3.9/site-packages/geopandas/_compat.py:111: UserWarning:\n",
      "\n",
      "The Shapely GEOS version (3.10.3-CAPI-1.16.1) is incompatible with the GEOS version PyGEOS was compiled with (3.10.4-CAPI-1.16.2). Conversions between both will be slow.\n",
      "\n"
     ]
    },
    {
     "data": {
      "text/html": [
       "        <script type=\"text/javascript\">\n",
       "        window.PlotlyConfig = {MathJaxConfig: 'local'};\n",
       "        if (window.MathJax) {MathJax.Hub.Config({SVG: {font: \"STIX-Web\"}});}\n",
       "        if (typeof require !== 'undefined') {\n",
       "        require.undef(\"plotly\");\n",
       "        requirejs.config({\n",
       "            paths: {\n",
       "                'plotly': ['https://cdn.plot.ly/plotly-2.3.1.min']\n",
       "            }\n",
       "        });\n",
       "        require(['plotly'], function(Plotly) {\n",
       "            window._Plotly = Plotly;\n",
       "        });\n",
       "        }\n",
       "        </script>\n",
       "        "
      ]
     },
     "metadata": {},
     "output_type": "display_data"
    },
    {
     "name": "stdout",
     "output_type": "stream",
     "text": [
      "Requirement already satisfied: geopandas in /opt/conda/lib/python3.9/site-packages (0.10.2)\n",
      "Requirement already satisfied: pandas>=0.25.0 in /opt/conda/lib/python3.9/site-packages (from geopandas) (1.3.5)\n",
      "Requirement already satisfied: pyproj>=2.2.0 in /opt/conda/lib/python3.9/site-packages (from geopandas) (3.3.1)\n",
      "Requirement already satisfied: shapely>=1.6 in /opt/conda/lib/python3.9/site-packages (from geopandas) (1.8.2)\n",
      "Requirement already satisfied: fiona>=1.8 in /opt/conda/lib/python3.9/site-packages (from geopandas) (1.8.22)\n",
      "Requirement already satisfied: six>=1.7 in /opt/conda/lib/python3.9/site-packages (from fiona>=1.8->geopandas) (1.16.0)\n",
      "Requirement already satisfied: setuptools in /opt/conda/lib/python3.9/site-packages (from fiona>=1.8->geopandas) (58.2.0)\n",
      "Requirement already satisfied: munch in /opt/conda/lib/python3.9/site-packages (from fiona>=1.8->geopandas) (2.5.0)\n",
      "Requirement already satisfied: certifi in /opt/conda/lib/python3.9/site-packages (from fiona>=1.8->geopandas) (2021.10.8)\n",
      "Requirement already satisfied: click-plugins>=1.0 in /opt/conda/lib/python3.9/site-packages (from fiona>=1.8->geopandas) (1.1.1)\n",
      "Requirement already satisfied: click>=4.0 in /opt/conda/lib/python3.9/site-packages (from fiona>=1.8->geopandas) (8.0.4)\n",
      "Requirement already satisfied: attrs>=17 in /opt/conda/lib/python3.9/site-packages (from fiona>=1.8->geopandas) (19.3.0)\n",
      "Requirement already satisfied: cligj>=0.5 in /opt/conda/lib/python3.9/site-packages (from fiona>=1.8->geopandas) (0.7.2)\n",
      "Requirement already satisfied: python-dateutil>=2.7.3 in /opt/conda/lib/python3.9/site-packages (from pandas>=0.25.0->geopandas) (2.8.0)\n",
      "Requirement already satisfied: pytz>=2017.3 in /opt/conda/lib/python3.9/site-packages (from pandas>=0.25.0->geopandas) (2021.1)\n",
      "Requirement already satisfied: numpy>=1.17.3 in /opt/conda/lib/python3.9/site-packages (from pandas>=0.25.0->geopandas) (1.21.6)\n"
     ]
    }
   ],
   "source": [
    "!pip install wbdata\n",
    "import wbdata\n",
    "import pandas as pd \n",
    "from matplotlib import pyplot as plt\n",
    "import numpy as np \n",
    "import cufflinks as cf\n",
    "cf.go_offline()\n",
    "import plotly.offline as py\n",
    "import plotly.graph_objs as go\n",
    "!pip install geopandas\n",
    "import pandas\n",
    "import geopandas\n",
    "df = pandas.read_csv(\"https://raw.githubusercontent.com/danhammer/envirods/main/data/farmers-mkts.csv\")\n",
    "gdf = geopandas.GeoDataFrame(df,geometry=geopandas.points_from_xy(df.x, df.y))"
   ]
  },
  {
   "cell_type": "code",
   "execution_count": 2,
   "id": "e020e1c0",
   "metadata": {},
   "outputs": [],
   "source": [
    "SOURCE = 2 \n",
    "indicators = wbdata.get_indicator(source=SOURCE)"
   ]
  },
  {
   "cell_type": "code",
   "execution_count": 3,
   "id": "8e9e9fc5",
   "metadata": {
    "scrolled": false
   },
   "outputs": [],
   "source": [
    "indicators = {\"NY.GDP.PCAP.CD\":\"GDP per capita\",\n",
    "              \"NY.GDP.PCAP.KD.ZG\": \"GDP per capita growth\",\n",
    "              \"SP.DYN.TFRT.IN\":\"Total Fertility Rate\",\n",
    "              \"SP.POP.GROW\":\"Population Growth Rate\",\n",
    "              \"SP.DYN.AMRT.MA\":\"Male Mortality\",\n",
    "              \"SP.DYN.AMRT.FE\":\"Female Mortality\",\n",
    "              \"SP.POP.1564.FE.ZS\":\"% Adult Female\",\n",
    "              \"SP.POP.TOTL.FE.ZS\":\"% Female\", \n",
    "              \"SP.POP.TOTL\" : \"Total Population\",\n",
    "              \"SM.POP.NETM\" : \"Net migration\",\n",
    "              \"SP.URB.TOTL.IN.ZS\": \"Urban Population (% of total)\"}"
   ]
  },
  {
   "cell_type": "markdown",
   "id": "e745019b",
   "metadata": {},
   "source": [
    "#### [Deliverable #A part 1] Population DataFrame Function\n",
    "A function that returns a pandas DataFrame indexed by Region or Country and Year, with columns giving counts of people in different age-sex groups."
   ]
  },
  {
   "cell_type": "code",
   "execution_count": 4,
   "id": "a2a5e644",
   "metadata": {},
   "outputs": [
    {
     "data": {
      "text/html": [
       "<div>\n",
       "<style scoped>\n",
       "    .dataframe tbody tr th:only-of-type {\n",
       "        vertical-align: middle;\n",
       "    }\n",
       "\n",
       "    .dataframe tbody tr th {\n",
       "        vertical-align: top;\n",
       "    }\n",
       "\n",
       "    .dataframe thead th {\n",
       "        text-align: right;\n",
       "    }\n",
       "</style>\n",
       "<table border=\"1\" class=\"dataframe\">\n",
       "  <thead>\n",
       "    <tr style=\"text-align: right;\">\n",
       "      <th></th>\n",
       "      <th></th>\n",
       "      <th>Male:80-UP</th>\n",
       "      <th>Female:80-UP</th>\n",
       "      <th>Male:00-04</th>\n",
       "      <th>Male:05-09</th>\n",
       "      <th>Male:10-14</th>\n",
       "      <th>Male:15-19</th>\n",
       "      <th>Male:20-24</th>\n",
       "      <th>Male:25-29</th>\n",
       "      <th>Male:30-34</th>\n",
       "      <th>Male:35-39</th>\n",
       "      <th>...</th>\n",
       "      <th>Female:30-34</th>\n",
       "      <th>Female:35-39</th>\n",
       "      <th>Female:40-44</th>\n",
       "      <th>Female:45-49</th>\n",
       "      <th>Female:50-54</th>\n",
       "      <th>Female:55-59</th>\n",
       "      <th>Female:60-64</th>\n",
       "      <th>Female:65-69</th>\n",
       "      <th>Female:70-74</th>\n",
       "      <th>Female:75-79</th>\n",
       "    </tr>\n",
       "    <tr>\n",
       "      <th>Region</th>\n",
       "      <th>date</th>\n",
       "      <th></th>\n",
       "      <th></th>\n",
       "      <th></th>\n",
       "      <th></th>\n",
       "      <th></th>\n",
       "      <th></th>\n",
       "      <th></th>\n",
       "      <th></th>\n",
       "      <th></th>\n",
       "      <th></th>\n",
       "      <th></th>\n",
       "      <th></th>\n",
       "      <th></th>\n",
       "      <th></th>\n",
       "      <th></th>\n",
       "      <th></th>\n",
       "      <th></th>\n",
       "      <th></th>\n",
       "      <th></th>\n",
       "      <th></th>\n",
       "      <th></th>\n",
       "    </tr>\n",
       "  </thead>\n",
       "  <tbody>\n",
       "    <tr>\n",
       "      <th rowspan=\"5\" valign=\"top\">USA</th>\n",
       "      <th>2021</th>\n",
       "      <td>5141691.0</td>\n",
       "      <td>7481166.0</td>\n",
       "      <td>9649499.0</td>\n",
       "      <td>10350050.0</td>\n",
       "      <td>10981126.0</td>\n",
       "      <td>11093229.0</td>\n",
       "      <td>11051728.0</td>\n",
       "      <td>11457880.0</td>\n",
       "      <td>11655269.0</td>\n",
       "      <td>11205436.0</td>\n",
       "      <td>...</td>\n",
       "      <td>11405195.0</td>\n",
       "      <td>10966698.0</td>\n",
       "      <td>10556704.0</td>\n",
       "      <td>10045368.0</td>\n",
       "      <td>10556848.0</td>\n",
       "      <td>10931308.0</td>\n",
       "      <td>10784355.0</td>\n",
       "      <td>9670021.0</td>\n",
       "      <td>7725296.0</td>\n",
       "      <td>5438472.0</td>\n",
       "    </tr>\n",
       "    <tr>\n",
       "      <th>2020</th>\n",
       "      <td>5034000.0</td>\n",
       "      <td>7322597.0</td>\n",
       "      <td>9852037.0</td>\n",
       "      <td>10415215.0</td>\n",
       "      <td>11134524.0</td>\n",
       "      <td>11074742.0</td>\n",
       "      <td>11019123.0</td>\n",
       "      <td>11624147.0</td>\n",
       "      <td>11558689.0</td>\n",
       "      <td>11181191.0</td>\n",
       "      <td>...</td>\n",
       "      <td>11286312.0</td>\n",
       "      <td>10952602.0</td>\n",
       "      <td>10376717.0</td>\n",
       "      <td>10278884.0</td>\n",
       "      <td>10547806.0</td>\n",
       "      <td>11141839.0</td>\n",
       "      <td>10723886.0</td>\n",
       "      <td>9509351.0</td>\n",
       "      <td>7454420.0</td>\n",
       "      <td>5166090.0</td>\n",
       "    </tr>\n",
       "    <tr>\n",
       "      <th>2019</th>\n",
       "      <td>4920646.0</td>\n",
       "      <td>7191218.0</td>\n",
       "      <td>9966405.0</td>\n",
       "      <td>10406055.0</td>\n",
       "      <td>11106026.0</td>\n",
       "      <td>10987004.0</td>\n",
       "      <td>10951050.0</td>\n",
       "      <td>11663144.0</td>\n",
       "      <td>11361102.0</td>\n",
       "      <td>11050733.0</td>\n",
       "      <td>...</td>\n",
       "      <td>11071806.0</td>\n",
       "      <td>10846744.0</td>\n",
       "      <td>10142512.0</td>\n",
       "      <td>10427530.0</td>\n",
       "      <td>10548318.0</td>\n",
       "      <td>11163030.0</td>\n",
       "      <td>10564689.0</td>\n",
       "      <td>9015729.0</td>\n",
       "      <td>7227138.0</td>\n",
       "      <td>4994841.0</td>\n",
       "    </tr>\n",
       "    <tr>\n",
       "      <th>2018</th>\n",
       "      <td>4867015.0</td>\n",
       "      <td>7157291.0</td>\n",
       "      <td>10075446.0</td>\n",
       "      <td>10491691.0</td>\n",
       "      <td>11057812.0</td>\n",
       "      <td>10944241.0</td>\n",
       "      <td>11028203.0</td>\n",
       "      <td>11698726.0</td>\n",
       "      <td>11234670.0</td>\n",
       "      <td>10938202.0</td>\n",
       "      <td>...</td>\n",
       "      <td>10938677.0</td>\n",
       "      <td>10770283.0</td>\n",
       "      <td>10022352.0</td>\n",
       "      <td>10574380.0</td>\n",
       "      <td>10725051.0</td>\n",
       "      <td>11184265.0</td>\n",
       "      <td>10435807.0</td>\n",
       "      <td>8691035.0</td>\n",
       "      <td>6996163.0</td>\n",
       "      <td>4809893.0</td>\n",
       "    </tr>\n",
       "    <tr>\n",
       "      <th>2017</th>\n",
       "      <td>4828475.0</td>\n",
       "      <td>7142701.0</td>\n",
       "      <td>10132520.0</td>\n",
       "      <td>10609795.0</td>\n",
       "      <td>10951980.0</td>\n",
       "      <td>10901962.0</td>\n",
       "      <td>11158423.0</td>\n",
       "      <td>11634024.0</td>\n",
       "      <td>11123129.0</td>\n",
       "      <td>10770172.0</td>\n",
       "      <td>...</td>\n",
       "      <td>10837966.0</td>\n",
       "      <td>10643766.0</td>\n",
       "      <td>9971595.0</td>\n",
       "      <td>10659578.0</td>\n",
       "      <td>10929543.0</td>\n",
       "      <td>11189734.0</td>\n",
       "      <td>10241524.0</td>\n",
       "      <td>8574778.0</td>\n",
       "      <td>6638861.0</td>\n",
       "      <td>4613896.0</td>\n",
       "    </tr>\n",
       "  </tbody>\n",
       "</table>\n",
       "<p>5 rows × 34 columns</p>\n",
       "</div>"
      ],
      "text/plain": [
       "             Male:80-UP  Female:80-UP  Male:00-04  Male:05-09  Male:10-14  \\\n",
       "Region date                                                                 \n",
       "USA    2021   5141691.0     7481166.0   9649499.0  10350050.0  10981126.0   \n",
       "       2020   5034000.0     7322597.0   9852037.0  10415215.0  11134524.0   \n",
       "       2019   4920646.0     7191218.0   9966405.0  10406055.0  11106026.0   \n",
       "       2018   4867015.0     7157291.0  10075446.0  10491691.0  11057812.0   \n",
       "       2017   4828475.0     7142701.0  10132520.0  10609795.0  10951980.0   \n",
       "\n",
       "             Male:15-19  Male:20-24  Male:25-29  Male:30-34  Male:35-39  ...  \\\n",
       "Region date                                                              ...   \n",
       "USA    2021  11093229.0  11051728.0  11457880.0  11655269.0  11205436.0  ...   \n",
       "       2020  11074742.0  11019123.0  11624147.0  11558689.0  11181191.0  ...   \n",
       "       2019  10987004.0  10951050.0  11663144.0  11361102.0  11050733.0  ...   \n",
       "       2018  10944241.0  11028203.0  11698726.0  11234670.0  10938202.0  ...   \n",
       "       2017  10901962.0  11158423.0  11634024.0  11123129.0  10770172.0  ...   \n",
       "\n",
       "             Female:30-34  Female:35-39  Female:40-44  Female:45-49  \\\n",
       "Region date                                                           \n",
       "USA    2021    11405195.0    10966698.0    10556704.0    10045368.0   \n",
       "       2020    11286312.0    10952602.0    10376717.0    10278884.0   \n",
       "       2019    11071806.0    10846744.0    10142512.0    10427530.0   \n",
       "       2018    10938677.0    10770283.0    10022352.0    10574380.0   \n",
       "       2017    10837966.0    10643766.0     9971595.0    10659578.0   \n",
       "\n",
       "             Female:50-54  Female:55-59  Female:60-64  Female:65-69  \\\n",
       "Region date                                                           \n",
       "USA    2021    10556848.0    10931308.0    10784355.0     9670021.0   \n",
       "       2020    10547806.0    11141839.0    10723886.0     9509351.0   \n",
       "       2019    10548318.0    11163030.0    10564689.0     9015729.0   \n",
       "       2018    10725051.0    11184265.0    10435807.0     8691035.0   \n",
       "       2017    10929543.0    11189734.0    10241524.0     8574778.0   \n",
       "\n",
       "             Female:70-74  Female:75-79  \n",
       "Region date                              \n",
       "USA    2021     7725296.0     5438472.0  \n",
       "       2020     7454420.0     5166090.0  \n",
       "       2019     7227138.0     4994841.0  \n",
       "       2018     6996163.0     4809893.0  \n",
       "       2017     6638861.0     4613896.0  \n",
       "\n",
       "[5 rows x 34 columns]"
      ]
     },
     "execution_count": 4,
     "metadata": {},
     "output_type": "execute_result"
    }
   ],
   "source": [
    "# Input: \n",
    "# location : 3 letter code \n",
    "def population_df(location = \"USA\"):\n",
    "    labels = {\"SP.POP.\" + \"80UP\" + \".MA\": \"Male:\" + \"80-UP\",\"SP.POP.\" + \"80UP\" + \".FE\": \"Female:\" + \"80-UP\"}\n",
    "    labels.update({\"SP.POP.\" + f\"{i:02d}\" + f\"{i+4:02d}\" + \".MA\": \"Male:\" + f\"{i:02d}\" + \"-\" + f\"{i+4:02d}\" for i in range(0, 80, 5)})\n",
    "    labels.update({\"SP.POP.\" + f\"{i:02d}\" + f\"{i+4:02d}\" + \".FE\": \"Female:\" + f\"{i:02d}\" + \"-\" + f\"{i+4:02d}\" for i in range(0, 80, 5)})\n",
    "    df = wbdata.get_dataframe(labels, country = location) \n",
    "    df.reset_index(inplace = True)\n",
    "    df[\"Region\"] = location\n",
    "    df[\"date\"] = df[\"date\"].astype(int)\n",
    "    df.set_index([\"Region\", \"date\"], inplace = True)\n",
    "    return df\n",
    "population_df(\"USA\").head()"
   ]
  },
  {
   "cell_type": "markdown",
   "id": "80348dce",
   "metadata": {},
   "source": [
    "#### [Deliverable #A part 2] Population Question Function\n",
    "A python function named population that will deliver information to answer the queries of the following form: In [year] how many [people/males/females] aged [low] to [high] were living in [the world/region/country]?"
   ]
  },
  {
   "cell_type": "code",
   "execution_count": 5,
   "id": "9479e1a6",
   "metadata": {},
   "outputs": [
    {
     "data": {
      "text/plain": [
       "19269549.0"
      ]
     },
     "execution_count": 5,
     "metadata": {},
     "output_type": "execute_result"
    }
   ],
   "source": [
    "# Inputs:\n",
    "# location: 3 country letter code\n",
    "# year: integer\n",
    "# sex: \"Male\", \"Female\", \"Total\"\n",
    "# age_range: list of strings, [\"low\",\"high\"], must take in age ranges as those given in the data \n",
    "#[\"00\",\"04\"],[\"05\",\"09\"],[\"10\",\"14\"], ... ,[\"80\",\"UP\"]\n",
    "\n",
    "def population(location, year, sex, age_range):\n",
    "    lower_age, upper_age = age_range[0], age_range[1]\n",
    "    if sex != \"Total\":\n",
    "        sex_age = sex+ \":\"+ lower_age + \"-\" + upper_age\n",
    "        return population_df(location).droplevel(\"Region\").loc[year, sex_age]\n",
    "    else:\n",
    "        fe = \"Female\"+ \":\"+ lower_age + \"-\" + upper_age\n",
    "        ma = \"Male\"+ \":\"+ lower_age + \"-\" + upper_age\n",
    "        tot = population_df(location).droplevel(\"Region\").loc[year, fe] + population_df(location).droplevel(\"Region\").loc[year, ma]\n",
    "        return tot\n",
    "    \n",
    "population('USA', 2020, \"Total\", [\"00\",\"04\"])"
   ]
  },
  {
   "cell_type": "markdown",
   "id": "08439da5",
   "metadata": {},
   "source": [
    "#### [Deliverable #B] Population Pyramids\n"
   ]
  },
  {
   "cell_type": "code",
   "execution_count": 6,
   "id": "24df7a0d",
   "metadata": {},
   "outputs": [
    {
     "data": {
      "text/html": [
       "        <script type=\"text/javascript\">\n",
       "        window.PlotlyConfig = {MathJaxConfig: 'local'};\n",
       "        if (window.MathJax) {MathJax.Hub.Config({SVG: {font: \"STIX-Web\"}});}\n",
       "        if (typeof require !== 'undefined') {\n",
       "        require.undef(\"plotly\");\n",
       "        requirejs.config({\n",
       "            paths: {\n",
       "                'plotly': ['https://cdn.plot.ly/plotly-2.3.1.min']\n",
       "            }\n",
       "        });\n",
       "        require(['plotly'], function(Plotly) {\n",
       "            window._Plotly = Plotly;\n",
       "        });\n",
       "        }\n",
       "        </script>\n",
       "        "
      ]
     },
     "metadata": {},
     "output_type": "display_data"
    },
    {
     "data": {
      "application/vnd.plotly.v1+json": {
       "config": {
        "linkText": "Export to plot.ly",
        "plotlyServerURL": "https://plot.ly",
        "showLink": false
       },
       "data": [
        {
         "hoverinfo": "skip",
         "name": "Men 2020",
         "orientation": "h",
         "type": "bar",
         "x": [
          9852037,
          10415215,
          11134524,
          11074742,
          11019123,
          11624147,
          11558689,
          11181191,
          10435225,
          10279751,
          10472749,
          10752175,
          10175477,
          8649632,
          6418498,
          4226158,
          5034000
         ],
         "y": [
          1,
          6,
          11,
          16,
          21,
          26,
          31,
          36,
          41,
          46,
          51,
          56,
          61,
          66,
          71,
          76,
          81
         ]
        },
        {
         "hoverinfo": "skip",
         "name": "Men 2000",
         "orientation": "h",
         "type": "bar",
         "x": [
          9898444,
          10518857,
          10540099,
          10396671,
          9868389,
          9908320,
          10477974,
          11254467,
          11169258,
          10126185,
          8238831,
          6406275,
          5326262,
          4727958,
          4243883,
          2977707,
          2831115
         ],
         "y": [
          1,
          6,
          11,
          16,
          21,
          26,
          31,
          36,
          41,
          46,
          51,
          56,
          61,
          66,
          71,
          76,
          81
         ]
        },
        {
         "hoverinfo": "skip",
         "name": "Men 1980",
         "orientation": "h",
         "type": "bar",
         "x": [
          8345267,
          8434806,
          9318722,
          10694760,
          10646085,
          9956338,
          8335211,
          6771445,
          5969438,
          5863150,
          6154281,
          5408826,
          4651481,
          3925982,
          2850548,
          1840663,
          1664605
         ],
         "y": [
          1,
          6,
          11,
          16,
          21,
          26,
          31,
          36,
          41,
          46,
          51,
          56,
          61,
          66,
          71,
          76,
          81
         ]
        },
        {
         "hoverinfo": "skip",
         "name": "Women 2020",
         "orientation": "h",
         "type": "bar",
         "x": [
          -9417512,
          -9939051,
          -10606984,
          -10599835,
          -10598207,
          -11275655,
          -11286312,
          -10952602,
          -10376717,
          -10278884,
          -10547806,
          -11141839,
          -10723886,
          -9509351,
          -7454420,
          -5166090,
          -7322597
         ],
         "y": [
          1,
          6,
          11,
          16,
          21,
          26,
          31,
          36,
          41,
          46,
          51,
          56,
          61,
          66,
          71,
          76,
          81
         ]
        },
        {
         "hoverinfo": "skip",
         "name": "Women 2000",
         "orientation": "h",
         "type": "bar",
         "x": [
          -9452765,
          -10018506,
          -10025765,
          -9789863,
          -9440228,
          -9687313,
          -10378827,
          -11396616,
          -11335678,
          -10400031,
          -8754367,
          -6876681,
          -5720017,
          -5063828,
          -4874468,
          -4264887,
          -5771874
         ],
         "y": [
          1,
          6,
          11,
          16,
          21,
          26,
          31,
          36,
          41,
          46,
          51,
          56,
          61,
          66,
          71,
          76,
          81
         ]
        },
        {
         "hoverinfo": "skip",
         "name": "Women 1980",
         "orientation": "h",
         "type": "bar",
         "x": [
          -7973204,
          -8056305,
          -8935016,
          -10366267,
          -10621192,
          -10030113,
          -8736416,
          -7088507,
          -6082404,
          -5677803,
          -6046650,
          -6055617,
          -5377922,
          -4960979,
          -3948229,
          -2951530,
          -3485241
         ],
         "y": [
          1,
          6,
          11,
          16,
          21,
          26,
          31,
          36,
          41,
          46,
          51,
          56,
          61,
          66,
          71,
          76,
          81
         ]
        }
       ],
       "layout": {
        "barmode": "overlay",
        "template": {
         "data": {
          "bar": [
           {
            "error_x": {
             "color": "#2a3f5f"
            },
            "error_y": {
             "color": "#2a3f5f"
            },
            "marker": {
             "line": {
              "color": "#E5ECF6",
              "width": 0.5
             },
             "pattern": {
              "fillmode": "overlay",
              "size": 10,
              "solidity": 0.2
             }
            },
            "type": "bar"
           }
          ],
          "barpolar": [
           {
            "marker": {
             "line": {
              "color": "#E5ECF6",
              "width": 0.5
             },
             "pattern": {
              "fillmode": "overlay",
              "size": 10,
              "solidity": 0.2
             }
            },
            "type": "barpolar"
           }
          ],
          "carpet": [
           {
            "aaxis": {
             "endlinecolor": "#2a3f5f",
             "gridcolor": "white",
             "linecolor": "white",
             "minorgridcolor": "white",
             "startlinecolor": "#2a3f5f"
            },
            "baxis": {
             "endlinecolor": "#2a3f5f",
             "gridcolor": "white",
             "linecolor": "white",
             "minorgridcolor": "white",
             "startlinecolor": "#2a3f5f"
            },
            "type": "carpet"
           }
          ],
          "choropleth": [
           {
            "colorbar": {
             "outlinewidth": 0,
             "ticks": ""
            },
            "type": "choropleth"
           }
          ],
          "contour": [
           {
            "colorbar": {
             "outlinewidth": 0,
             "ticks": ""
            },
            "colorscale": [
             [
              0,
              "#0d0887"
             ],
             [
              0.1111111111111111,
              "#46039f"
             ],
             [
              0.2222222222222222,
              "#7201a8"
             ],
             [
              0.3333333333333333,
              "#9c179e"
             ],
             [
              0.4444444444444444,
              "#bd3786"
             ],
             [
              0.5555555555555556,
              "#d8576b"
             ],
             [
              0.6666666666666666,
              "#ed7953"
             ],
             [
              0.7777777777777778,
              "#fb9f3a"
             ],
             [
              0.8888888888888888,
              "#fdca26"
             ],
             [
              1,
              "#f0f921"
             ]
            ],
            "type": "contour"
           }
          ],
          "contourcarpet": [
           {
            "colorbar": {
             "outlinewidth": 0,
             "ticks": ""
            },
            "type": "contourcarpet"
           }
          ],
          "heatmap": [
           {
            "colorbar": {
             "outlinewidth": 0,
             "ticks": ""
            },
            "colorscale": [
             [
              0,
              "#0d0887"
             ],
             [
              0.1111111111111111,
              "#46039f"
             ],
             [
              0.2222222222222222,
              "#7201a8"
             ],
             [
              0.3333333333333333,
              "#9c179e"
             ],
             [
              0.4444444444444444,
              "#bd3786"
             ],
             [
              0.5555555555555556,
              "#d8576b"
             ],
             [
              0.6666666666666666,
              "#ed7953"
             ],
             [
              0.7777777777777778,
              "#fb9f3a"
             ],
             [
              0.8888888888888888,
              "#fdca26"
             ],
             [
              1,
              "#f0f921"
             ]
            ],
            "type": "heatmap"
           }
          ],
          "heatmapgl": [
           {
            "colorbar": {
             "outlinewidth": 0,
             "ticks": ""
            },
            "colorscale": [
             [
              0,
              "#0d0887"
             ],
             [
              0.1111111111111111,
              "#46039f"
             ],
             [
              0.2222222222222222,
              "#7201a8"
             ],
             [
              0.3333333333333333,
              "#9c179e"
             ],
             [
              0.4444444444444444,
              "#bd3786"
             ],
             [
              0.5555555555555556,
              "#d8576b"
             ],
             [
              0.6666666666666666,
              "#ed7953"
             ],
             [
              0.7777777777777778,
              "#fb9f3a"
             ],
             [
              0.8888888888888888,
              "#fdca26"
             ],
             [
              1,
              "#f0f921"
             ]
            ],
            "type": "heatmapgl"
           }
          ],
          "histogram": [
           {
            "marker": {
             "pattern": {
              "fillmode": "overlay",
              "size": 10,
              "solidity": 0.2
             }
            },
            "type": "histogram"
           }
          ],
          "histogram2d": [
           {
            "colorbar": {
             "outlinewidth": 0,
             "ticks": ""
            },
            "colorscale": [
             [
              0,
              "#0d0887"
             ],
             [
              0.1111111111111111,
              "#46039f"
             ],
             [
              0.2222222222222222,
              "#7201a8"
             ],
             [
              0.3333333333333333,
              "#9c179e"
             ],
             [
              0.4444444444444444,
              "#bd3786"
             ],
             [
              0.5555555555555556,
              "#d8576b"
             ],
             [
              0.6666666666666666,
              "#ed7953"
             ],
             [
              0.7777777777777778,
              "#fb9f3a"
             ],
             [
              0.8888888888888888,
              "#fdca26"
             ],
             [
              1,
              "#f0f921"
             ]
            ],
            "type": "histogram2d"
           }
          ],
          "histogram2dcontour": [
           {
            "colorbar": {
             "outlinewidth": 0,
             "ticks": ""
            },
            "colorscale": [
             [
              0,
              "#0d0887"
             ],
             [
              0.1111111111111111,
              "#46039f"
             ],
             [
              0.2222222222222222,
              "#7201a8"
             ],
             [
              0.3333333333333333,
              "#9c179e"
             ],
             [
              0.4444444444444444,
              "#bd3786"
             ],
             [
              0.5555555555555556,
              "#d8576b"
             ],
             [
              0.6666666666666666,
              "#ed7953"
             ],
             [
              0.7777777777777778,
              "#fb9f3a"
             ],
             [
              0.8888888888888888,
              "#fdca26"
             ],
             [
              1,
              "#f0f921"
             ]
            ],
            "type": "histogram2dcontour"
           }
          ],
          "mesh3d": [
           {
            "colorbar": {
             "outlinewidth": 0,
             "ticks": ""
            },
            "type": "mesh3d"
           }
          ],
          "parcoords": [
           {
            "line": {
             "colorbar": {
              "outlinewidth": 0,
              "ticks": ""
             }
            },
            "type": "parcoords"
           }
          ],
          "pie": [
           {
            "automargin": true,
            "type": "pie"
           }
          ],
          "scatter": [
           {
            "marker": {
             "colorbar": {
              "outlinewidth": 0,
              "ticks": ""
             }
            },
            "type": "scatter"
           }
          ],
          "scatter3d": [
           {
            "line": {
             "colorbar": {
              "outlinewidth": 0,
              "ticks": ""
             }
            },
            "marker": {
             "colorbar": {
              "outlinewidth": 0,
              "ticks": ""
             }
            },
            "type": "scatter3d"
           }
          ],
          "scattercarpet": [
           {
            "marker": {
             "colorbar": {
              "outlinewidth": 0,
              "ticks": ""
             }
            },
            "type": "scattercarpet"
           }
          ],
          "scattergeo": [
           {
            "marker": {
             "colorbar": {
              "outlinewidth": 0,
              "ticks": ""
             }
            },
            "type": "scattergeo"
           }
          ],
          "scattergl": [
           {
            "marker": {
             "colorbar": {
              "outlinewidth": 0,
              "ticks": ""
             }
            },
            "type": "scattergl"
           }
          ],
          "scattermapbox": [
           {
            "marker": {
             "colorbar": {
              "outlinewidth": 0,
              "ticks": ""
             }
            },
            "type": "scattermapbox"
           }
          ],
          "scatterpolar": [
           {
            "marker": {
             "colorbar": {
              "outlinewidth": 0,
              "ticks": ""
             }
            },
            "type": "scatterpolar"
           }
          ],
          "scatterpolargl": [
           {
            "marker": {
             "colorbar": {
              "outlinewidth": 0,
              "ticks": ""
             }
            },
            "type": "scatterpolargl"
           }
          ],
          "scatterternary": [
           {
            "marker": {
             "colorbar": {
              "outlinewidth": 0,
              "ticks": ""
             }
            },
            "type": "scatterternary"
           }
          ],
          "surface": [
           {
            "colorbar": {
             "outlinewidth": 0,
             "ticks": ""
            },
            "colorscale": [
             [
              0,
              "#0d0887"
             ],
             [
              0.1111111111111111,
              "#46039f"
             ],
             [
              0.2222222222222222,
              "#7201a8"
             ],
             [
              0.3333333333333333,
              "#9c179e"
             ],
             [
              0.4444444444444444,
              "#bd3786"
             ],
             [
              0.5555555555555556,
              "#d8576b"
             ],
             [
              0.6666666666666666,
              "#ed7953"
             ],
             [
              0.7777777777777778,
              "#fb9f3a"
             ],
             [
              0.8888888888888888,
              "#fdca26"
             ],
             [
              1,
              "#f0f921"
             ]
            ],
            "type": "surface"
           }
          ],
          "table": [
           {
            "cells": {
             "fill": {
              "color": "#EBF0F8"
             },
             "line": {
              "color": "white"
             }
            },
            "header": {
             "fill": {
              "color": "#C8D4E3"
             },
             "line": {
              "color": "white"
             }
            },
            "type": "table"
           }
          ]
         },
         "layout": {
          "annotationdefaults": {
           "arrowcolor": "#2a3f5f",
           "arrowhead": 0,
           "arrowwidth": 1
          },
          "autotypenumbers": "strict",
          "coloraxis": {
           "colorbar": {
            "outlinewidth": 0,
            "ticks": ""
           }
          },
          "colorscale": {
           "diverging": [
            [
             0,
             "#8e0152"
            ],
            [
             0.1,
             "#c51b7d"
            ],
            [
             0.2,
             "#de77ae"
            ],
            [
             0.3,
             "#f1b6da"
            ],
            [
             0.4,
             "#fde0ef"
            ],
            [
             0.5,
             "#f7f7f7"
            ],
            [
             0.6,
             "#e6f5d0"
            ],
            [
             0.7,
             "#b8e186"
            ],
            [
             0.8,
             "#7fbc41"
            ],
            [
             0.9,
             "#4d9221"
            ],
            [
             1,
             "#276419"
            ]
           ],
           "sequential": [
            [
             0,
             "#0d0887"
            ],
            [
             0.1111111111111111,
             "#46039f"
            ],
            [
             0.2222222222222222,
             "#7201a8"
            ],
            [
             0.3333333333333333,
             "#9c179e"
            ],
            [
             0.4444444444444444,
             "#bd3786"
            ],
            [
             0.5555555555555556,
             "#d8576b"
            ],
            [
             0.6666666666666666,
             "#ed7953"
            ],
            [
             0.7777777777777778,
             "#fb9f3a"
            ],
            [
             0.8888888888888888,
             "#fdca26"
            ],
            [
             1,
             "#f0f921"
            ]
           ],
           "sequentialminus": [
            [
             0,
             "#0d0887"
            ],
            [
             0.1111111111111111,
             "#46039f"
            ],
            [
             0.2222222222222222,
             "#7201a8"
            ],
            [
             0.3333333333333333,
             "#9c179e"
            ],
            [
             0.4444444444444444,
             "#bd3786"
            ],
            [
             0.5555555555555556,
             "#d8576b"
            ],
            [
             0.6666666666666666,
             "#ed7953"
            ],
            [
             0.7777777777777778,
             "#fb9f3a"
            ],
            [
             0.8888888888888888,
             "#fdca26"
            ],
            [
             1,
             "#f0f921"
            ]
           ]
          },
          "colorway": [
           "#636efa",
           "#EF553B",
           "#00cc96",
           "#ab63fa",
           "#FFA15A",
           "#19d3f3",
           "#FF6692",
           "#B6E880",
           "#FF97FF",
           "#FECB52"
          ],
          "font": {
           "color": "#2a3f5f"
          },
          "geo": {
           "bgcolor": "white",
           "lakecolor": "white",
           "landcolor": "#E5ECF6",
           "showlakes": true,
           "showland": true,
           "subunitcolor": "white"
          },
          "hoverlabel": {
           "align": "left"
          },
          "hovermode": "closest",
          "mapbox": {
           "style": "light"
          },
          "paper_bgcolor": "white",
          "plot_bgcolor": "#E5ECF6",
          "polar": {
           "angularaxis": {
            "gridcolor": "white",
            "linecolor": "white",
            "ticks": ""
           },
           "bgcolor": "#E5ECF6",
           "radialaxis": {
            "gridcolor": "white",
            "linecolor": "white",
            "ticks": ""
           }
          },
          "scene": {
           "xaxis": {
            "backgroundcolor": "#E5ECF6",
            "gridcolor": "white",
            "gridwidth": 2,
            "linecolor": "white",
            "showbackground": true,
            "ticks": "",
            "zerolinecolor": "white"
           },
           "yaxis": {
            "backgroundcolor": "#E5ECF6",
            "gridcolor": "white",
            "gridwidth": 2,
            "linecolor": "white",
            "showbackground": true,
            "ticks": "",
            "zerolinecolor": "white"
           },
           "zaxis": {
            "backgroundcolor": "#E5ECF6",
            "gridcolor": "white",
            "gridwidth": 2,
            "linecolor": "white",
            "showbackground": true,
            "ticks": "",
            "zerolinecolor": "white"
           }
          },
          "shapedefaults": {
           "line": {
            "color": "#2a3f5f"
           }
          },
          "ternary": {
           "aaxis": {
            "gridcolor": "white",
            "linecolor": "white",
            "ticks": ""
           },
           "baxis": {
            "gridcolor": "white",
            "linecolor": "white",
            "ticks": ""
           },
           "bgcolor": "#E5ECF6",
           "caxis": {
            "gridcolor": "white",
            "linecolor": "white",
            "ticks": ""
           }
          },
          "title": {
           "x": 0.05
          },
          "xaxis": {
           "automargin": true,
           "gridcolor": "white",
           "linecolor": "white",
           "ticks": "",
           "title": {
            "standoff": 15
           },
           "zerolinecolor": "white",
           "zerolinewidth": 2
          },
          "yaxis": {
           "automargin": true,
           "gridcolor": "white",
           "linecolor": "white",
           "ticks": "",
           "title": {
            "standoff": 15
           },
           "zerolinecolor": "white",
           "zerolinewidth": 2
          }
         }
        },
        "xaxis": {
         "title": {
          "text": "Number"
         }
        },
        "yaxis": {
         "range": [
          0,
          90
         ],
         "title": {
          "text": "Age"
         }
        }
       }
      },
      "text/html": [
       "<div>                            <div id=\"c878e91a-323d-43fe-8b5b-58065ca56257\" class=\"plotly-graph-div\" style=\"height:525px; width:100%;\"></div>            <script type=\"text/javascript\">                require([\"plotly\"], function(Plotly) {                    window.PLOTLYENV=window.PLOTLYENV || {};                                    if (document.getElementById(\"c878e91a-323d-43fe-8b5b-58065ca56257\")) {                    Plotly.newPlot(                        \"c878e91a-323d-43fe-8b5b-58065ca56257\",                        [{\"hoverinfo\":\"skip\",\"name\":\"Men 2020\",\"orientation\":\"h\",\"type\":\"bar\",\"x\":[9852037.0,10415215.0,11134524.0,11074742.0,11019123.0,11624147.0,11558689.0,11181191.0,10435225.0,10279751.0,10472749.0,10752175.0,10175477.0,8649632.0,6418498.0,4226158.0,5034000.0],\"y\":[1,6,11,16,21,26,31,36,41,46,51,56,61,66,71,76,81]},{\"hoverinfo\":\"skip\",\"name\":\"Men 2000\",\"orientation\":\"h\",\"type\":\"bar\",\"x\":[9898444.0,10518857.0,10540099.0,10396671.0,9868389.0,9908320.0,10477974.0,11254467.0,11169258.0,10126185.0,8238831.0,6406275.0,5326262.0,4727958.0,4243883.0,2977707.0,2831115.0],\"y\":[1,6,11,16,21,26,31,36,41,46,51,56,61,66,71,76,81]},{\"hoverinfo\":\"skip\",\"name\":\"Men 1980\",\"orientation\":\"h\",\"type\":\"bar\",\"x\":[8345267.0,8434806.0,9318722.0,10694760.0,10646085.0,9956338.0,8335211.0,6771445.0,5969438.0,5863150.0,6154281.0,5408826.0,4651481.0,3925982.0,2850548.0,1840663.0,1664605.0],\"y\":[1,6,11,16,21,26,31,36,41,46,51,56,61,66,71,76,81]},{\"hoverinfo\":\"skip\",\"name\":\"Women 2020\",\"orientation\":\"h\",\"type\":\"bar\",\"x\":[-9417512.0,-9939051.0,-10606984.0,-10599835.0,-10598207.0,-11275655.0,-11286312.0,-10952602.0,-10376717.0,-10278884.0,-10547806.0,-11141839.0,-10723886.0,-9509351.0,-7454420.0,-5166090.0,-7322597.0],\"y\":[1,6,11,16,21,26,31,36,41,46,51,56,61,66,71,76,81]},{\"hoverinfo\":\"skip\",\"name\":\"Women 2000\",\"orientation\":\"h\",\"type\":\"bar\",\"x\":[-9452765.0,-10018506.0,-10025765.0,-9789863.0,-9440228.0,-9687313.0,-10378827.0,-11396616.0,-11335678.0,-10400031.0,-8754367.0,-6876681.0,-5720017.0,-5063828.0,-4874468.0,-4264887.0,-5771874.0],\"y\":[1,6,11,16,21,26,31,36,41,46,51,56,61,66,71,76,81]},{\"hoverinfo\":\"skip\",\"name\":\"Women 1980\",\"orientation\":\"h\",\"type\":\"bar\",\"x\":[-7973204.0,-8056305.0,-8935016.0,-10366267.0,-10621192.0,-10030113.0,-8736416.0,-7088507.0,-6082404.0,-5677803.0,-6046650.0,-6055617.0,-5377922.0,-4960979.0,-3948229.0,-2951530.0,-3485241.0],\"y\":[1,6,11,16,21,26,31,36,41,46,51,56,61,66,71,76,81]}],                        {\"barmode\":\"overlay\",\"template\":{\"data\":{\"bar\":[{\"error_x\":{\"color\":\"#2a3f5f\"},\"error_y\":{\"color\":\"#2a3f5f\"},\"marker\":{\"line\":{\"color\":\"#E5ECF6\",\"width\":0.5},\"pattern\":{\"fillmode\":\"overlay\",\"size\":10,\"solidity\":0.2}},\"type\":\"bar\"}],\"barpolar\":[{\"marker\":{\"line\":{\"color\":\"#E5ECF6\",\"width\":0.5},\"pattern\":{\"fillmode\":\"overlay\",\"size\":10,\"solidity\":0.2}},\"type\":\"barpolar\"}],\"carpet\":[{\"aaxis\":{\"endlinecolor\":\"#2a3f5f\",\"gridcolor\":\"white\",\"linecolor\":\"white\",\"minorgridcolor\":\"white\",\"startlinecolor\":\"#2a3f5f\"},\"baxis\":{\"endlinecolor\":\"#2a3f5f\",\"gridcolor\":\"white\",\"linecolor\":\"white\",\"minorgridcolor\":\"white\",\"startlinecolor\":\"#2a3f5f\"},\"type\":\"carpet\"}],\"choropleth\":[{\"colorbar\":{\"outlinewidth\":0,\"ticks\":\"\"},\"type\":\"choropleth\"}],\"contour\":[{\"colorbar\":{\"outlinewidth\":0,\"ticks\":\"\"},\"colorscale\":[[0.0,\"#0d0887\"],[0.1111111111111111,\"#46039f\"],[0.2222222222222222,\"#7201a8\"],[0.3333333333333333,\"#9c179e\"],[0.4444444444444444,\"#bd3786\"],[0.5555555555555556,\"#d8576b\"],[0.6666666666666666,\"#ed7953\"],[0.7777777777777778,\"#fb9f3a\"],[0.8888888888888888,\"#fdca26\"],[1.0,\"#f0f921\"]],\"type\":\"contour\"}],\"contourcarpet\":[{\"colorbar\":{\"outlinewidth\":0,\"ticks\":\"\"},\"type\":\"contourcarpet\"}],\"heatmap\":[{\"colorbar\":{\"outlinewidth\":0,\"ticks\":\"\"},\"colorscale\":[[0.0,\"#0d0887\"],[0.1111111111111111,\"#46039f\"],[0.2222222222222222,\"#7201a8\"],[0.3333333333333333,\"#9c179e\"],[0.4444444444444444,\"#bd3786\"],[0.5555555555555556,\"#d8576b\"],[0.6666666666666666,\"#ed7953\"],[0.7777777777777778,\"#fb9f3a\"],[0.8888888888888888,\"#fdca26\"],[1.0,\"#f0f921\"]],\"type\":\"heatmap\"}],\"heatmapgl\":[{\"colorbar\":{\"outlinewidth\":0,\"ticks\":\"\"},\"colorscale\":[[0.0,\"#0d0887\"],[0.1111111111111111,\"#46039f\"],[0.2222222222222222,\"#7201a8\"],[0.3333333333333333,\"#9c179e\"],[0.4444444444444444,\"#bd3786\"],[0.5555555555555556,\"#d8576b\"],[0.6666666666666666,\"#ed7953\"],[0.7777777777777778,\"#fb9f3a\"],[0.8888888888888888,\"#fdca26\"],[1.0,\"#f0f921\"]],\"type\":\"heatmapgl\"}],\"histogram\":[{\"marker\":{\"pattern\":{\"fillmode\":\"overlay\",\"size\":10,\"solidity\":0.2}},\"type\":\"histogram\"}],\"histogram2d\":[{\"colorbar\":{\"outlinewidth\":0,\"ticks\":\"\"},\"colorscale\":[[0.0,\"#0d0887\"],[0.1111111111111111,\"#46039f\"],[0.2222222222222222,\"#7201a8\"],[0.3333333333333333,\"#9c179e\"],[0.4444444444444444,\"#bd3786\"],[0.5555555555555556,\"#d8576b\"],[0.6666666666666666,\"#ed7953\"],[0.7777777777777778,\"#fb9f3a\"],[0.8888888888888888,\"#fdca26\"],[1.0,\"#f0f921\"]],\"type\":\"histogram2d\"}],\"histogram2dcontour\":[{\"colorbar\":{\"outlinewidth\":0,\"ticks\":\"\"},\"colorscale\":[[0.0,\"#0d0887\"],[0.1111111111111111,\"#46039f\"],[0.2222222222222222,\"#7201a8\"],[0.3333333333333333,\"#9c179e\"],[0.4444444444444444,\"#bd3786\"],[0.5555555555555556,\"#d8576b\"],[0.6666666666666666,\"#ed7953\"],[0.7777777777777778,\"#fb9f3a\"],[0.8888888888888888,\"#fdca26\"],[1.0,\"#f0f921\"]],\"type\":\"histogram2dcontour\"}],\"mesh3d\":[{\"colorbar\":{\"outlinewidth\":0,\"ticks\":\"\"},\"type\":\"mesh3d\"}],\"parcoords\":[{\"line\":{\"colorbar\":{\"outlinewidth\":0,\"ticks\":\"\"}},\"type\":\"parcoords\"}],\"pie\":[{\"automargin\":true,\"type\":\"pie\"}],\"scatter\":[{\"marker\":{\"colorbar\":{\"outlinewidth\":0,\"ticks\":\"\"}},\"type\":\"scatter\"}],\"scatter3d\":[{\"line\":{\"colorbar\":{\"outlinewidth\":0,\"ticks\":\"\"}},\"marker\":{\"colorbar\":{\"outlinewidth\":0,\"ticks\":\"\"}},\"type\":\"scatter3d\"}],\"scattercarpet\":[{\"marker\":{\"colorbar\":{\"outlinewidth\":0,\"ticks\":\"\"}},\"type\":\"scattercarpet\"}],\"scattergeo\":[{\"marker\":{\"colorbar\":{\"outlinewidth\":0,\"ticks\":\"\"}},\"type\":\"scattergeo\"}],\"scattergl\":[{\"marker\":{\"colorbar\":{\"outlinewidth\":0,\"ticks\":\"\"}},\"type\":\"scattergl\"}],\"scattermapbox\":[{\"marker\":{\"colorbar\":{\"outlinewidth\":0,\"ticks\":\"\"}},\"type\":\"scattermapbox\"}],\"scatterpolar\":[{\"marker\":{\"colorbar\":{\"outlinewidth\":0,\"ticks\":\"\"}},\"type\":\"scatterpolar\"}],\"scatterpolargl\":[{\"marker\":{\"colorbar\":{\"outlinewidth\":0,\"ticks\":\"\"}},\"type\":\"scatterpolargl\"}],\"scatterternary\":[{\"marker\":{\"colorbar\":{\"outlinewidth\":0,\"ticks\":\"\"}},\"type\":\"scatterternary\"}],\"surface\":[{\"colorbar\":{\"outlinewidth\":0,\"ticks\":\"\"},\"colorscale\":[[0.0,\"#0d0887\"],[0.1111111111111111,\"#46039f\"],[0.2222222222222222,\"#7201a8\"],[0.3333333333333333,\"#9c179e\"],[0.4444444444444444,\"#bd3786\"],[0.5555555555555556,\"#d8576b\"],[0.6666666666666666,\"#ed7953\"],[0.7777777777777778,\"#fb9f3a\"],[0.8888888888888888,\"#fdca26\"],[1.0,\"#f0f921\"]],\"type\":\"surface\"}],\"table\":[{\"cells\":{\"fill\":{\"color\":\"#EBF0F8\"},\"line\":{\"color\":\"white\"}},\"header\":{\"fill\":{\"color\":\"#C8D4E3\"},\"line\":{\"color\":\"white\"}},\"type\":\"table\"}]},\"layout\":{\"annotationdefaults\":{\"arrowcolor\":\"#2a3f5f\",\"arrowhead\":0,\"arrowwidth\":1},\"autotypenumbers\":\"strict\",\"coloraxis\":{\"colorbar\":{\"outlinewidth\":0,\"ticks\":\"\"}},\"colorscale\":{\"diverging\":[[0,\"#8e0152\"],[0.1,\"#c51b7d\"],[0.2,\"#de77ae\"],[0.3,\"#f1b6da\"],[0.4,\"#fde0ef\"],[0.5,\"#f7f7f7\"],[0.6,\"#e6f5d0\"],[0.7,\"#b8e186\"],[0.8,\"#7fbc41\"],[0.9,\"#4d9221\"],[1,\"#276419\"]],\"sequential\":[[0.0,\"#0d0887\"],[0.1111111111111111,\"#46039f\"],[0.2222222222222222,\"#7201a8\"],[0.3333333333333333,\"#9c179e\"],[0.4444444444444444,\"#bd3786\"],[0.5555555555555556,\"#d8576b\"],[0.6666666666666666,\"#ed7953\"],[0.7777777777777778,\"#fb9f3a\"],[0.8888888888888888,\"#fdca26\"],[1.0,\"#f0f921\"]],\"sequentialminus\":[[0.0,\"#0d0887\"],[0.1111111111111111,\"#46039f\"],[0.2222222222222222,\"#7201a8\"],[0.3333333333333333,\"#9c179e\"],[0.4444444444444444,\"#bd3786\"],[0.5555555555555556,\"#d8576b\"],[0.6666666666666666,\"#ed7953\"],[0.7777777777777778,\"#fb9f3a\"],[0.8888888888888888,\"#fdca26\"],[1.0,\"#f0f921\"]]},\"colorway\":[\"#636efa\",\"#EF553B\",\"#00cc96\",\"#ab63fa\",\"#FFA15A\",\"#19d3f3\",\"#FF6692\",\"#B6E880\",\"#FF97FF\",\"#FECB52\"],\"font\":{\"color\":\"#2a3f5f\"},\"geo\":{\"bgcolor\":\"white\",\"lakecolor\":\"white\",\"landcolor\":\"#E5ECF6\",\"showlakes\":true,\"showland\":true,\"subunitcolor\":\"white\"},\"hoverlabel\":{\"align\":\"left\"},\"hovermode\":\"closest\",\"mapbox\":{\"style\":\"light\"},\"paper_bgcolor\":\"white\",\"plot_bgcolor\":\"#E5ECF6\",\"polar\":{\"angularaxis\":{\"gridcolor\":\"white\",\"linecolor\":\"white\",\"ticks\":\"\"},\"bgcolor\":\"#E5ECF6\",\"radialaxis\":{\"gridcolor\":\"white\",\"linecolor\":\"white\",\"ticks\":\"\"}},\"scene\":{\"xaxis\":{\"backgroundcolor\":\"#E5ECF6\",\"gridcolor\":\"white\",\"gridwidth\":2,\"linecolor\":\"white\",\"showbackground\":true,\"ticks\":\"\",\"zerolinecolor\":\"white\"},\"yaxis\":{\"backgroundcolor\":\"#E5ECF6\",\"gridcolor\":\"white\",\"gridwidth\":2,\"linecolor\":\"white\",\"showbackground\":true,\"ticks\":\"\",\"zerolinecolor\":\"white\"},\"zaxis\":{\"backgroundcolor\":\"#E5ECF6\",\"gridcolor\":\"white\",\"gridwidth\":2,\"linecolor\":\"white\",\"showbackground\":true,\"ticks\":\"\",\"zerolinecolor\":\"white\"}},\"shapedefaults\":{\"line\":{\"color\":\"#2a3f5f\"}},\"ternary\":{\"aaxis\":{\"gridcolor\":\"white\",\"linecolor\":\"white\",\"ticks\":\"\"},\"baxis\":{\"gridcolor\":\"white\",\"linecolor\":\"white\",\"ticks\":\"\"},\"bgcolor\":\"#E5ECF6\",\"caxis\":{\"gridcolor\":\"white\",\"linecolor\":\"white\",\"ticks\":\"\"}},\"title\":{\"x\":0.05},\"xaxis\":{\"automargin\":true,\"gridcolor\":\"white\",\"linecolor\":\"white\",\"ticks\":\"\",\"title\":{\"standoff\":15},\"zerolinecolor\":\"white\",\"zerolinewidth\":2},\"yaxis\":{\"automargin\":true,\"gridcolor\":\"white\",\"linecolor\":\"white\",\"ticks\":\"\",\"title\":{\"standoff\":15},\"zerolinecolor\":\"white\",\"zerolinewidth\":2}}},\"xaxis\":{\"title\":{\"text\":\"Number\"}},\"yaxis\":{\"range\":[0,90],\"title\":{\"text\":\"Age\"}}},                        {\"responsive\": true}                    ).then(function(){\n",
       "                            \n",
       "var gd = document.getElementById('c878e91a-323d-43fe-8b5b-58065ca56257');\n",
       "var x = new MutationObserver(function (mutations, observer) {{\n",
       "        var display = window.getComputedStyle(gd).display;\n",
       "        if (!display || display === 'none') {{\n",
       "            console.log([gd, 'removed!']);\n",
       "            Plotly.purge(gd);\n",
       "            observer.disconnect();\n",
       "        }}\n",
       "}});\n",
       "\n",
       "// Listen for the removal of the full notebook cells\n",
       "var notebookContainer = gd.closest('#notebook-container');\n",
       "if (notebookContainer) {{\n",
       "    x.observe(notebookContainer, {childList: true});\n",
       "}}\n",
       "\n",
       "// Listen for the clearing of the current output cell\n",
       "var outputEl = gd.closest('.output');\n",
       "if (outputEl) {{\n",
       "    x.observe(outputEl, {childList: true});\n",
       "}}\n",
       "\n",
       "                        })                };                });            </script>        </div>"
      ]
     },
     "metadata": {},
     "output_type": "display_data"
    },
    {
     "data": {
      "application/vnd.plotly.v1+json": {
       "config": {
        "linkText": "Export to plot.ly",
        "plotlyServerURL": "https://plot.ly",
        "showLink": false
       },
       "data": [
        {
         "hoverinfo": "skip",
         "name": "Men 2020",
         "orientation": "h",
         "type": "bar",
         "x": [
          2284879,
          2625371,
          2783159,
          2943234,
          3110606,
          3148065,
          3353821,
          3673190,
          4290148,
          4930324,
          4316656,
          3955075,
          3672502,
          3981641,
          4457166,
          3302958,
          4546804
         ],
         "y": [
          1,
          6,
          11,
          16,
          21,
          26,
          31,
          36,
          41,
          46,
          51,
          56,
          61,
          66,
          71,
          76,
          81
         ]
        },
        {
         "hoverinfo": "skip",
         "name": "Men 2000",
         "orientation": "h",
         "type": "bar",
         "x": [
          3003843,
          3033523,
          3276693,
          3714694,
          4383588,
          5055504,
          4447878,
          4105435,
          3915295,
          4392986,
          5234513,
          4326537,
          3777204,
          3394437,
          2726136,
          1679972,
          1658472
         ],
         "y": [
          1,
          6,
          11,
          16,
          21,
          26,
          31,
          36,
          41,
          46,
          51,
          56,
          61,
          66,
          71,
          76,
          81
         ]
        },
        {
         "hoverinfo": "skip",
         "name": "Men 1980",
         "orientation": "h",
         "type": "bar",
         "x": [
          4341896,
          5022119,
          4452146,
          4188326,
          4003297,
          4558299,
          5530507,
          4645839,
          4183613,
          4026799,
          3563637,
          2542497,
          1945234,
          1764403,
          1340634,
          872456,
          619248
         ],
         "y": [
          1,
          6,
          11,
          16,
          21,
          26,
          31,
          36,
          41,
          46,
          51,
          56,
          61,
          66,
          71,
          76,
          81
         ]
        },
        {
         "hoverinfo": "skip",
         "name": "Women 2020",
         "orientation": "h",
         "type": "bar",
         "x": [
          -2184919,
          -2507133,
          -2659429,
          -2807464,
          -2975536,
          -2995683,
          -3215782,
          -3563080,
          -4168331,
          -4818401,
          -4259599,
          -3934988,
          -3731605,
          -4205901,
          -4929367,
          -4027886,
          -7900294
         ],
         "y": [
          1,
          6,
          11,
          16,
          21,
          26,
          31,
          36,
          41,
          46,
          51,
          56,
          61,
          66,
          71,
          76,
          81
         ]
        },
        {
         "hoverinfo": "skip",
         "name": "Women 2000",
         "orientation": "h",
         "type": "bar",
         "x": [
          -2873014,
          -2904431,
          -3138986,
          -3549810,
          -4179546,
          -4832694,
          -4290827,
          -3984777,
          -3832098,
          -4358073,
          -5216092,
          -4458319,
          -3972388,
          -3790787,
          -3283876,
          -2594112,
          -3456462
         ],
         "y": [
          1,
          6,
          11,
          16,
          21,
          26,
          31,
          36,
          41,
          46,
          51,
          56,
          61,
          66,
          71,
          76,
          81
         ]
        },
        {
         "hoverinfo": "skip",
         "name": "Women 1980",
         "orientation": "h",
         "type": "bar",
         "x": [
          -4133476,
          -4783696,
          -4245161,
          -4018244,
          -3878547,
          -4428831,
          -5360805,
          -4607535,
          -4149064,
          -4046464,
          -3656834,
          -3122145,
          -2510434,
          -2239112,
          -1736072,
          -1213596,
          -1076035
         ],
         "y": [
          1,
          6,
          11,
          16,
          21,
          26,
          31,
          36,
          41,
          46,
          51,
          56,
          61,
          66,
          71,
          76,
          81
         ]
        }
       ],
       "layout": {
        "barmode": "overlay",
        "template": {
         "data": {
          "bar": [
           {
            "error_x": {
             "color": "#2a3f5f"
            },
            "error_y": {
             "color": "#2a3f5f"
            },
            "marker": {
             "line": {
              "color": "#E5ECF6",
              "width": 0.5
             },
             "pattern": {
              "fillmode": "overlay",
              "size": 10,
              "solidity": 0.2
             }
            },
            "type": "bar"
           }
          ],
          "barpolar": [
           {
            "marker": {
             "line": {
              "color": "#E5ECF6",
              "width": 0.5
             },
             "pattern": {
              "fillmode": "overlay",
              "size": 10,
              "solidity": 0.2
             }
            },
            "type": "barpolar"
           }
          ],
          "carpet": [
           {
            "aaxis": {
             "endlinecolor": "#2a3f5f",
             "gridcolor": "white",
             "linecolor": "white",
             "minorgridcolor": "white",
             "startlinecolor": "#2a3f5f"
            },
            "baxis": {
             "endlinecolor": "#2a3f5f",
             "gridcolor": "white",
             "linecolor": "white",
             "minorgridcolor": "white",
             "startlinecolor": "#2a3f5f"
            },
            "type": "carpet"
           }
          ],
          "choropleth": [
           {
            "colorbar": {
             "outlinewidth": 0,
             "ticks": ""
            },
            "type": "choropleth"
           }
          ],
          "contour": [
           {
            "colorbar": {
             "outlinewidth": 0,
             "ticks": ""
            },
            "colorscale": [
             [
              0,
              "#0d0887"
             ],
             [
              0.1111111111111111,
              "#46039f"
             ],
             [
              0.2222222222222222,
              "#7201a8"
             ],
             [
              0.3333333333333333,
              "#9c179e"
             ],
             [
              0.4444444444444444,
              "#bd3786"
             ],
             [
              0.5555555555555556,
              "#d8576b"
             ],
             [
              0.6666666666666666,
              "#ed7953"
             ],
             [
              0.7777777777777778,
              "#fb9f3a"
             ],
             [
              0.8888888888888888,
              "#fdca26"
             ],
             [
              1,
              "#f0f921"
             ]
            ],
            "type": "contour"
           }
          ],
          "contourcarpet": [
           {
            "colorbar": {
             "outlinewidth": 0,
             "ticks": ""
            },
            "type": "contourcarpet"
           }
          ],
          "heatmap": [
           {
            "colorbar": {
             "outlinewidth": 0,
             "ticks": ""
            },
            "colorscale": [
             [
              0,
              "#0d0887"
             ],
             [
              0.1111111111111111,
              "#46039f"
             ],
             [
              0.2222222222222222,
              "#7201a8"
             ],
             [
              0.3333333333333333,
              "#9c179e"
             ],
             [
              0.4444444444444444,
              "#bd3786"
             ],
             [
              0.5555555555555556,
              "#d8576b"
             ],
             [
              0.6666666666666666,
              "#ed7953"
             ],
             [
              0.7777777777777778,
              "#fb9f3a"
             ],
             [
              0.8888888888888888,
              "#fdca26"
             ],
             [
              1,
              "#f0f921"
             ]
            ],
            "type": "heatmap"
           }
          ],
          "heatmapgl": [
           {
            "colorbar": {
             "outlinewidth": 0,
             "ticks": ""
            },
            "colorscale": [
             [
              0,
              "#0d0887"
             ],
             [
              0.1111111111111111,
              "#46039f"
             ],
             [
              0.2222222222222222,
              "#7201a8"
             ],
             [
              0.3333333333333333,
              "#9c179e"
             ],
             [
              0.4444444444444444,
              "#bd3786"
             ],
             [
              0.5555555555555556,
              "#d8576b"
             ],
             [
              0.6666666666666666,
              "#ed7953"
             ],
             [
              0.7777777777777778,
              "#fb9f3a"
             ],
             [
              0.8888888888888888,
              "#fdca26"
             ],
             [
              1,
              "#f0f921"
             ]
            ],
            "type": "heatmapgl"
           }
          ],
          "histogram": [
           {
            "marker": {
             "pattern": {
              "fillmode": "overlay",
              "size": 10,
              "solidity": 0.2
             }
            },
            "type": "histogram"
           }
          ],
          "histogram2d": [
           {
            "colorbar": {
             "outlinewidth": 0,
             "ticks": ""
            },
            "colorscale": [
             [
              0,
              "#0d0887"
             ],
             [
              0.1111111111111111,
              "#46039f"
             ],
             [
              0.2222222222222222,
              "#7201a8"
             ],
             [
              0.3333333333333333,
              "#9c179e"
             ],
             [
              0.4444444444444444,
              "#bd3786"
             ],
             [
              0.5555555555555556,
              "#d8576b"
             ],
             [
              0.6666666666666666,
              "#ed7953"
             ],
             [
              0.7777777777777778,
              "#fb9f3a"
             ],
             [
              0.8888888888888888,
              "#fdca26"
             ],
             [
              1,
              "#f0f921"
             ]
            ],
            "type": "histogram2d"
           }
          ],
          "histogram2dcontour": [
           {
            "colorbar": {
             "outlinewidth": 0,
             "ticks": ""
            },
            "colorscale": [
             [
              0,
              "#0d0887"
             ],
             [
              0.1111111111111111,
              "#46039f"
             ],
             [
              0.2222222222222222,
              "#7201a8"
             ],
             [
              0.3333333333333333,
              "#9c179e"
             ],
             [
              0.4444444444444444,
              "#bd3786"
             ],
             [
              0.5555555555555556,
              "#d8576b"
             ],
             [
              0.6666666666666666,
              "#ed7953"
             ],
             [
              0.7777777777777778,
              "#fb9f3a"
             ],
             [
              0.8888888888888888,
              "#fdca26"
             ],
             [
              1,
              "#f0f921"
             ]
            ],
            "type": "histogram2dcontour"
           }
          ],
          "mesh3d": [
           {
            "colorbar": {
             "outlinewidth": 0,
             "ticks": ""
            },
            "type": "mesh3d"
           }
          ],
          "parcoords": [
           {
            "line": {
             "colorbar": {
              "outlinewidth": 0,
              "ticks": ""
             }
            },
            "type": "parcoords"
           }
          ],
          "pie": [
           {
            "automargin": true,
            "type": "pie"
           }
          ],
          "scatter": [
           {
            "marker": {
             "colorbar": {
              "outlinewidth": 0,
              "ticks": ""
             }
            },
            "type": "scatter"
           }
          ],
          "scatter3d": [
           {
            "line": {
             "colorbar": {
              "outlinewidth": 0,
              "ticks": ""
             }
            },
            "marker": {
             "colorbar": {
              "outlinewidth": 0,
              "ticks": ""
             }
            },
            "type": "scatter3d"
           }
          ],
          "scattercarpet": [
           {
            "marker": {
             "colorbar": {
              "outlinewidth": 0,
              "ticks": ""
             }
            },
            "type": "scattercarpet"
           }
          ],
          "scattergeo": [
           {
            "marker": {
             "colorbar": {
              "outlinewidth": 0,
              "ticks": ""
             }
            },
            "type": "scattergeo"
           }
          ],
          "scattergl": [
           {
            "marker": {
             "colorbar": {
              "outlinewidth": 0,
              "ticks": ""
             }
            },
            "type": "scattergl"
           }
          ],
          "scattermapbox": [
           {
            "marker": {
             "colorbar": {
              "outlinewidth": 0,
              "ticks": ""
             }
            },
            "type": "scattermapbox"
           }
          ],
          "scatterpolar": [
           {
            "marker": {
             "colorbar": {
              "outlinewidth": 0,
              "ticks": ""
             }
            },
            "type": "scatterpolar"
           }
          ],
          "scatterpolargl": [
           {
            "marker": {
             "colorbar": {
              "outlinewidth": 0,
              "ticks": ""
             }
            },
            "type": "scatterpolargl"
           }
          ],
          "scatterternary": [
           {
            "marker": {
             "colorbar": {
              "outlinewidth": 0,
              "ticks": ""
             }
            },
            "type": "scatterternary"
           }
          ],
          "surface": [
           {
            "colorbar": {
             "outlinewidth": 0,
             "ticks": ""
            },
            "colorscale": [
             [
              0,
              "#0d0887"
             ],
             [
              0.1111111111111111,
              "#46039f"
             ],
             [
              0.2222222222222222,
              "#7201a8"
             ],
             [
              0.3333333333333333,
              "#9c179e"
             ],
             [
              0.4444444444444444,
              "#bd3786"
             ],
             [
              0.5555555555555556,
              "#d8576b"
             ],
             [
              0.6666666666666666,
              "#ed7953"
             ],
             [
              0.7777777777777778,
              "#fb9f3a"
             ],
             [
              0.8888888888888888,
              "#fdca26"
             ],
             [
              1,
              "#f0f921"
             ]
            ],
            "type": "surface"
           }
          ],
          "table": [
           {
            "cells": {
             "fill": {
              "color": "#EBF0F8"
             },
             "line": {
              "color": "white"
             }
            },
            "header": {
             "fill": {
              "color": "#C8D4E3"
             },
             "line": {
              "color": "white"
             }
            },
            "type": "table"
           }
          ]
         },
         "layout": {
          "annotationdefaults": {
           "arrowcolor": "#2a3f5f",
           "arrowhead": 0,
           "arrowwidth": 1
          },
          "autotypenumbers": "strict",
          "coloraxis": {
           "colorbar": {
            "outlinewidth": 0,
            "ticks": ""
           }
          },
          "colorscale": {
           "diverging": [
            [
             0,
             "#8e0152"
            ],
            [
             0.1,
             "#c51b7d"
            ],
            [
             0.2,
             "#de77ae"
            ],
            [
             0.3,
             "#f1b6da"
            ],
            [
             0.4,
             "#fde0ef"
            ],
            [
             0.5,
             "#f7f7f7"
            ],
            [
             0.6,
             "#e6f5d0"
            ],
            [
             0.7,
             "#b8e186"
            ],
            [
             0.8,
             "#7fbc41"
            ],
            [
             0.9,
             "#4d9221"
            ],
            [
             1,
             "#276419"
            ]
           ],
           "sequential": [
            [
             0,
             "#0d0887"
            ],
            [
             0.1111111111111111,
             "#46039f"
            ],
            [
             0.2222222222222222,
             "#7201a8"
            ],
            [
             0.3333333333333333,
             "#9c179e"
            ],
            [
             0.4444444444444444,
             "#bd3786"
            ],
            [
             0.5555555555555556,
             "#d8576b"
            ],
            [
             0.6666666666666666,
             "#ed7953"
            ],
            [
             0.7777777777777778,
             "#fb9f3a"
            ],
            [
             0.8888888888888888,
             "#fdca26"
            ],
            [
             1,
             "#f0f921"
            ]
           ],
           "sequentialminus": [
            [
             0,
             "#0d0887"
            ],
            [
             0.1111111111111111,
             "#46039f"
            ],
            [
             0.2222222222222222,
             "#7201a8"
            ],
            [
             0.3333333333333333,
             "#9c179e"
            ],
            [
             0.4444444444444444,
             "#bd3786"
            ],
            [
             0.5555555555555556,
             "#d8576b"
            ],
            [
             0.6666666666666666,
             "#ed7953"
            ],
            [
             0.7777777777777778,
             "#fb9f3a"
            ],
            [
             0.8888888888888888,
             "#fdca26"
            ],
            [
             1,
             "#f0f921"
            ]
           ]
          },
          "colorway": [
           "#636efa",
           "#EF553B",
           "#00cc96",
           "#ab63fa",
           "#FFA15A",
           "#19d3f3",
           "#FF6692",
           "#B6E880",
           "#FF97FF",
           "#FECB52"
          ],
          "font": {
           "color": "#2a3f5f"
          },
          "geo": {
           "bgcolor": "white",
           "lakecolor": "white",
           "landcolor": "#E5ECF6",
           "showlakes": true,
           "showland": true,
           "subunitcolor": "white"
          },
          "hoverlabel": {
           "align": "left"
          },
          "hovermode": "closest",
          "mapbox": {
           "style": "light"
          },
          "paper_bgcolor": "white",
          "plot_bgcolor": "#E5ECF6",
          "polar": {
           "angularaxis": {
            "gridcolor": "white",
            "linecolor": "white",
            "ticks": ""
           },
           "bgcolor": "#E5ECF6",
           "radialaxis": {
            "gridcolor": "white",
            "linecolor": "white",
            "ticks": ""
           }
          },
          "scene": {
           "xaxis": {
            "backgroundcolor": "#E5ECF6",
            "gridcolor": "white",
            "gridwidth": 2,
            "linecolor": "white",
            "showbackground": true,
            "ticks": "",
            "zerolinecolor": "white"
           },
           "yaxis": {
            "backgroundcolor": "#E5ECF6",
            "gridcolor": "white",
            "gridwidth": 2,
            "linecolor": "white",
            "showbackground": true,
            "ticks": "",
            "zerolinecolor": "white"
           },
           "zaxis": {
            "backgroundcolor": "#E5ECF6",
            "gridcolor": "white",
            "gridwidth": 2,
            "linecolor": "white",
            "showbackground": true,
            "ticks": "",
            "zerolinecolor": "white"
           }
          },
          "shapedefaults": {
           "line": {
            "color": "#2a3f5f"
           }
          },
          "ternary": {
           "aaxis": {
            "gridcolor": "white",
            "linecolor": "white",
            "ticks": ""
           },
           "baxis": {
            "gridcolor": "white",
            "linecolor": "white",
            "ticks": ""
           },
           "bgcolor": "#E5ECF6",
           "caxis": {
            "gridcolor": "white",
            "linecolor": "white",
            "ticks": ""
           }
          },
          "title": {
           "x": 0.05
          },
          "xaxis": {
           "automargin": true,
           "gridcolor": "white",
           "linecolor": "white",
           "ticks": "",
           "title": {
            "standoff": 15
           },
           "zerolinecolor": "white",
           "zerolinewidth": 2
          },
          "yaxis": {
           "automargin": true,
           "gridcolor": "white",
           "linecolor": "white",
           "ticks": "",
           "title": {
            "standoff": 15
           },
           "zerolinecolor": "white",
           "zerolinewidth": 2
          }
         }
        },
        "xaxis": {
         "title": {
          "text": "Number"
         }
        },
        "yaxis": {
         "range": [
          0,
          90
         ],
         "title": {
          "text": "Age"
         }
        }
       }
      },
      "text/html": [
       "<div>                            <div id=\"f4c9a482-741d-47ec-b3e2-b31e9ca479de\" class=\"plotly-graph-div\" style=\"height:525px; width:100%;\"></div>            <script type=\"text/javascript\">                require([\"plotly\"], function(Plotly) {                    window.PLOTLYENV=window.PLOTLYENV || {};                                    if (document.getElementById(\"f4c9a482-741d-47ec-b3e2-b31e9ca479de\")) {                    Plotly.newPlot(                        \"f4c9a482-741d-47ec-b3e2-b31e9ca479de\",                        [{\"hoverinfo\":\"skip\",\"name\":\"Men 2020\",\"orientation\":\"h\",\"type\":\"bar\",\"x\":[2284879.0,2625371.0,2783159.0,2943234.0,3110606.0,3148065.0,3353821.0,3673190.0,4290148.0,4930324.0,4316656.0,3955075.0,3672502.0,3981641.0,4457166.0,3302958.0,4546804.0],\"y\":[1,6,11,16,21,26,31,36,41,46,51,56,61,66,71,76,81]},{\"hoverinfo\":\"skip\",\"name\":\"Men 2000\",\"orientation\":\"h\",\"type\":\"bar\",\"x\":[3003843.0,3033523.0,3276693.0,3714694.0,4383588.0,5055504.0,4447878.0,4105435.0,3915295.0,4392986.0,5234513.0,4326537.0,3777204.0,3394437.0,2726136.0,1679972.0,1658472.0],\"y\":[1,6,11,16,21,26,31,36,41,46,51,56,61,66,71,76,81]},{\"hoverinfo\":\"skip\",\"name\":\"Men 1980\",\"orientation\":\"h\",\"type\":\"bar\",\"x\":[4341896.0,5022119.0,4452146.0,4188326.0,4003297.0,4558299.0,5530507.0,4645839.0,4183613.0,4026799.0,3563637.0,2542497.0,1945234.0,1764403.0,1340634.0,872456.0,619248.0],\"y\":[1,6,11,16,21,26,31,36,41,46,51,56,61,66,71,76,81]},{\"hoverinfo\":\"skip\",\"name\":\"Women 2020\",\"orientation\":\"h\",\"type\":\"bar\",\"x\":[-2184919.0,-2507133.0,-2659429.0,-2807464.0,-2975536.0,-2995683.0,-3215782.0,-3563080.0,-4168331.0,-4818401.0,-4259599.0,-3934988.0,-3731605.0,-4205901.0,-4929367.0,-4027886.0,-7900294.0],\"y\":[1,6,11,16,21,26,31,36,41,46,51,56,61,66,71,76,81]},{\"hoverinfo\":\"skip\",\"name\":\"Women 2000\",\"orientation\":\"h\",\"type\":\"bar\",\"x\":[-2873014.0,-2904431.0,-3138986.0,-3549810.0,-4179546.0,-4832694.0,-4290827.0,-3984777.0,-3832098.0,-4358073.0,-5216092.0,-4458319.0,-3972388.0,-3790787.0,-3283876.0,-2594112.0,-3456462.0],\"y\":[1,6,11,16,21,26,31,36,41,46,51,56,61,66,71,76,81]},{\"hoverinfo\":\"skip\",\"name\":\"Women 1980\",\"orientation\":\"h\",\"type\":\"bar\",\"x\":[-4133476.0,-4783696.0,-4245161.0,-4018244.0,-3878547.0,-4428831.0,-5360805.0,-4607535.0,-4149064.0,-4046464.0,-3656834.0,-3122145.0,-2510434.0,-2239112.0,-1736072.0,-1213596.0,-1076035.0],\"y\":[1,6,11,16,21,26,31,36,41,46,51,56,61,66,71,76,81]}],                        {\"barmode\":\"overlay\",\"template\":{\"data\":{\"bar\":[{\"error_x\":{\"color\":\"#2a3f5f\"},\"error_y\":{\"color\":\"#2a3f5f\"},\"marker\":{\"line\":{\"color\":\"#E5ECF6\",\"width\":0.5},\"pattern\":{\"fillmode\":\"overlay\",\"size\":10,\"solidity\":0.2}},\"type\":\"bar\"}],\"barpolar\":[{\"marker\":{\"line\":{\"color\":\"#E5ECF6\",\"width\":0.5},\"pattern\":{\"fillmode\":\"overlay\",\"size\":10,\"solidity\":0.2}},\"type\":\"barpolar\"}],\"carpet\":[{\"aaxis\":{\"endlinecolor\":\"#2a3f5f\",\"gridcolor\":\"white\",\"linecolor\":\"white\",\"minorgridcolor\":\"white\",\"startlinecolor\":\"#2a3f5f\"},\"baxis\":{\"endlinecolor\":\"#2a3f5f\",\"gridcolor\":\"white\",\"linecolor\":\"white\",\"minorgridcolor\":\"white\",\"startlinecolor\":\"#2a3f5f\"},\"type\":\"carpet\"}],\"choropleth\":[{\"colorbar\":{\"outlinewidth\":0,\"ticks\":\"\"},\"type\":\"choropleth\"}],\"contour\":[{\"colorbar\":{\"outlinewidth\":0,\"ticks\":\"\"},\"colorscale\":[[0.0,\"#0d0887\"],[0.1111111111111111,\"#46039f\"],[0.2222222222222222,\"#7201a8\"],[0.3333333333333333,\"#9c179e\"],[0.4444444444444444,\"#bd3786\"],[0.5555555555555556,\"#d8576b\"],[0.6666666666666666,\"#ed7953\"],[0.7777777777777778,\"#fb9f3a\"],[0.8888888888888888,\"#fdca26\"],[1.0,\"#f0f921\"]],\"type\":\"contour\"}],\"contourcarpet\":[{\"colorbar\":{\"outlinewidth\":0,\"ticks\":\"\"},\"type\":\"contourcarpet\"}],\"heatmap\":[{\"colorbar\":{\"outlinewidth\":0,\"ticks\":\"\"},\"colorscale\":[[0.0,\"#0d0887\"],[0.1111111111111111,\"#46039f\"],[0.2222222222222222,\"#7201a8\"],[0.3333333333333333,\"#9c179e\"],[0.4444444444444444,\"#bd3786\"],[0.5555555555555556,\"#d8576b\"],[0.6666666666666666,\"#ed7953\"],[0.7777777777777778,\"#fb9f3a\"],[0.8888888888888888,\"#fdca26\"],[1.0,\"#f0f921\"]],\"type\":\"heatmap\"}],\"heatmapgl\":[{\"colorbar\":{\"outlinewidth\":0,\"ticks\":\"\"},\"colorscale\":[[0.0,\"#0d0887\"],[0.1111111111111111,\"#46039f\"],[0.2222222222222222,\"#7201a8\"],[0.3333333333333333,\"#9c179e\"],[0.4444444444444444,\"#bd3786\"],[0.5555555555555556,\"#d8576b\"],[0.6666666666666666,\"#ed7953\"],[0.7777777777777778,\"#fb9f3a\"],[0.8888888888888888,\"#fdca26\"],[1.0,\"#f0f921\"]],\"type\":\"heatmapgl\"}],\"histogram\":[{\"marker\":{\"pattern\":{\"fillmode\":\"overlay\",\"size\":10,\"solidity\":0.2}},\"type\":\"histogram\"}],\"histogram2d\":[{\"colorbar\":{\"outlinewidth\":0,\"ticks\":\"\"},\"colorscale\":[[0.0,\"#0d0887\"],[0.1111111111111111,\"#46039f\"],[0.2222222222222222,\"#7201a8\"],[0.3333333333333333,\"#9c179e\"],[0.4444444444444444,\"#bd3786\"],[0.5555555555555556,\"#d8576b\"],[0.6666666666666666,\"#ed7953\"],[0.7777777777777778,\"#fb9f3a\"],[0.8888888888888888,\"#fdca26\"],[1.0,\"#f0f921\"]],\"type\":\"histogram2d\"}],\"histogram2dcontour\":[{\"colorbar\":{\"outlinewidth\":0,\"ticks\":\"\"},\"colorscale\":[[0.0,\"#0d0887\"],[0.1111111111111111,\"#46039f\"],[0.2222222222222222,\"#7201a8\"],[0.3333333333333333,\"#9c179e\"],[0.4444444444444444,\"#bd3786\"],[0.5555555555555556,\"#d8576b\"],[0.6666666666666666,\"#ed7953\"],[0.7777777777777778,\"#fb9f3a\"],[0.8888888888888888,\"#fdca26\"],[1.0,\"#f0f921\"]],\"type\":\"histogram2dcontour\"}],\"mesh3d\":[{\"colorbar\":{\"outlinewidth\":0,\"ticks\":\"\"},\"type\":\"mesh3d\"}],\"parcoords\":[{\"line\":{\"colorbar\":{\"outlinewidth\":0,\"ticks\":\"\"}},\"type\":\"parcoords\"}],\"pie\":[{\"automargin\":true,\"type\":\"pie\"}],\"scatter\":[{\"marker\":{\"colorbar\":{\"outlinewidth\":0,\"ticks\":\"\"}},\"type\":\"scatter\"}],\"scatter3d\":[{\"line\":{\"colorbar\":{\"outlinewidth\":0,\"ticks\":\"\"}},\"marker\":{\"colorbar\":{\"outlinewidth\":0,\"ticks\":\"\"}},\"type\":\"scatter3d\"}],\"scattercarpet\":[{\"marker\":{\"colorbar\":{\"outlinewidth\":0,\"ticks\":\"\"}},\"type\":\"scattercarpet\"}],\"scattergeo\":[{\"marker\":{\"colorbar\":{\"outlinewidth\":0,\"ticks\":\"\"}},\"type\":\"scattergeo\"}],\"scattergl\":[{\"marker\":{\"colorbar\":{\"outlinewidth\":0,\"ticks\":\"\"}},\"type\":\"scattergl\"}],\"scattermapbox\":[{\"marker\":{\"colorbar\":{\"outlinewidth\":0,\"ticks\":\"\"}},\"type\":\"scattermapbox\"}],\"scatterpolar\":[{\"marker\":{\"colorbar\":{\"outlinewidth\":0,\"ticks\":\"\"}},\"type\":\"scatterpolar\"}],\"scatterpolargl\":[{\"marker\":{\"colorbar\":{\"outlinewidth\":0,\"ticks\":\"\"}},\"type\":\"scatterpolargl\"}],\"scatterternary\":[{\"marker\":{\"colorbar\":{\"outlinewidth\":0,\"ticks\":\"\"}},\"type\":\"scatterternary\"}],\"surface\":[{\"colorbar\":{\"outlinewidth\":0,\"ticks\":\"\"},\"colorscale\":[[0.0,\"#0d0887\"],[0.1111111111111111,\"#46039f\"],[0.2222222222222222,\"#7201a8\"],[0.3333333333333333,\"#9c179e\"],[0.4444444444444444,\"#bd3786\"],[0.5555555555555556,\"#d8576b\"],[0.6666666666666666,\"#ed7953\"],[0.7777777777777778,\"#fb9f3a\"],[0.8888888888888888,\"#fdca26\"],[1.0,\"#f0f921\"]],\"type\":\"surface\"}],\"table\":[{\"cells\":{\"fill\":{\"color\":\"#EBF0F8\"},\"line\":{\"color\":\"white\"}},\"header\":{\"fill\":{\"color\":\"#C8D4E3\"},\"line\":{\"color\":\"white\"}},\"type\":\"table\"}]},\"layout\":{\"annotationdefaults\":{\"arrowcolor\":\"#2a3f5f\",\"arrowhead\":0,\"arrowwidth\":1},\"autotypenumbers\":\"strict\",\"coloraxis\":{\"colorbar\":{\"outlinewidth\":0,\"ticks\":\"\"}},\"colorscale\":{\"diverging\":[[0,\"#8e0152\"],[0.1,\"#c51b7d\"],[0.2,\"#de77ae\"],[0.3,\"#f1b6da\"],[0.4,\"#fde0ef\"],[0.5,\"#f7f7f7\"],[0.6,\"#e6f5d0\"],[0.7,\"#b8e186\"],[0.8,\"#7fbc41\"],[0.9,\"#4d9221\"],[1,\"#276419\"]],\"sequential\":[[0.0,\"#0d0887\"],[0.1111111111111111,\"#46039f\"],[0.2222222222222222,\"#7201a8\"],[0.3333333333333333,\"#9c179e\"],[0.4444444444444444,\"#bd3786\"],[0.5555555555555556,\"#d8576b\"],[0.6666666666666666,\"#ed7953\"],[0.7777777777777778,\"#fb9f3a\"],[0.8888888888888888,\"#fdca26\"],[1.0,\"#f0f921\"]],\"sequentialminus\":[[0.0,\"#0d0887\"],[0.1111111111111111,\"#46039f\"],[0.2222222222222222,\"#7201a8\"],[0.3333333333333333,\"#9c179e\"],[0.4444444444444444,\"#bd3786\"],[0.5555555555555556,\"#d8576b\"],[0.6666666666666666,\"#ed7953\"],[0.7777777777777778,\"#fb9f3a\"],[0.8888888888888888,\"#fdca26\"],[1.0,\"#f0f921\"]]},\"colorway\":[\"#636efa\",\"#EF553B\",\"#00cc96\",\"#ab63fa\",\"#FFA15A\",\"#19d3f3\",\"#FF6692\",\"#B6E880\",\"#FF97FF\",\"#FECB52\"],\"font\":{\"color\":\"#2a3f5f\"},\"geo\":{\"bgcolor\":\"white\",\"lakecolor\":\"white\",\"landcolor\":\"#E5ECF6\",\"showlakes\":true,\"showland\":true,\"subunitcolor\":\"white\"},\"hoverlabel\":{\"align\":\"left\"},\"hovermode\":\"closest\",\"mapbox\":{\"style\":\"light\"},\"paper_bgcolor\":\"white\",\"plot_bgcolor\":\"#E5ECF6\",\"polar\":{\"angularaxis\":{\"gridcolor\":\"white\",\"linecolor\":\"white\",\"ticks\":\"\"},\"bgcolor\":\"#E5ECF6\",\"radialaxis\":{\"gridcolor\":\"white\",\"linecolor\":\"white\",\"ticks\":\"\"}},\"scene\":{\"xaxis\":{\"backgroundcolor\":\"#E5ECF6\",\"gridcolor\":\"white\",\"gridwidth\":2,\"linecolor\":\"white\",\"showbackground\":true,\"ticks\":\"\",\"zerolinecolor\":\"white\"},\"yaxis\":{\"backgroundcolor\":\"#E5ECF6\",\"gridcolor\":\"white\",\"gridwidth\":2,\"linecolor\":\"white\",\"showbackground\":true,\"ticks\":\"\",\"zerolinecolor\":\"white\"},\"zaxis\":{\"backgroundcolor\":\"#E5ECF6\",\"gridcolor\":\"white\",\"gridwidth\":2,\"linecolor\":\"white\",\"showbackground\":true,\"ticks\":\"\",\"zerolinecolor\":\"white\"}},\"shapedefaults\":{\"line\":{\"color\":\"#2a3f5f\"}},\"ternary\":{\"aaxis\":{\"gridcolor\":\"white\",\"linecolor\":\"white\",\"ticks\":\"\"},\"baxis\":{\"gridcolor\":\"white\",\"linecolor\":\"white\",\"ticks\":\"\"},\"bgcolor\":\"#E5ECF6\",\"caxis\":{\"gridcolor\":\"white\",\"linecolor\":\"white\",\"ticks\":\"\"}},\"title\":{\"x\":0.05},\"xaxis\":{\"automargin\":true,\"gridcolor\":\"white\",\"linecolor\":\"white\",\"ticks\":\"\",\"title\":{\"standoff\":15},\"zerolinecolor\":\"white\",\"zerolinewidth\":2},\"yaxis\":{\"automargin\":true,\"gridcolor\":\"white\",\"linecolor\":\"white\",\"ticks\":\"\",\"title\":{\"standoff\":15},\"zerolinecolor\":\"white\",\"zerolinewidth\":2}}},\"xaxis\":{\"title\":{\"text\":\"Number\"}},\"yaxis\":{\"range\":[0,90],\"title\":{\"text\":\"Age\"}}},                        {\"responsive\": true}                    ).then(function(){\n",
       "                            \n",
       "var gd = document.getElementById('f4c9a482-741d-47ec-b3e2-b31e9ca479de');\n",
       "var x = new MutationObserver(function (mutations, observer) {{\n",
       "        var display = window.getComputedStyle(gd).display;\n",
       "        if (!display || display === 'none') {{\n",
       "            console.log([gd, 'removed!']);\n",
       "            Plotly.purge(gd);\n",
       "            observer.disconnect();\n",
       "        }}\n",
       "}});\n",
       "\n",
       "// Listen for the removal of the full notebook cells\n",
       "var notebookContainer = gd.closest('#notebook-container');\n",
       "if (notebookContainer) {{\n",
       "    x.observe(notebookContainer, {childList: true});\n",
       "}}\n",
       "\n",
       "// Listen for the clearing of the current output cell\n",
       "var outputEl = gd.closest('.output');\n",
       "if (outputEl) {{\n",
       "    x.observe(outputEl, {childList: true});\n",
       "}}\n",
       "\n",
       "                        })                };                });            </script>        </div>"
      ]
     },
     "metadata": {},
     "output_type": "display_data"
    },
    {
     "data": {
      "application/vnd.plotly.v1+json": {
       "config": {
        "linkText": "Export to plot.ly",
        "plotlyServerURL": "https://plot.ly",
        "showLink": false
       },
       "data": [
        {
         "hoverinfo": "skip",
         "name": "Men 2020",
         "orientation": "h",
         "type": "bar",
         "x": [
          60771735,
          63921193,
          65906417,
          67689391,
          65745248,
          62448056,
          58647559,
          53259451,
          46635684,
          41235304,
          35543107,
          30253405,
          24594476,
          18942792,
          11995529,
          7031714,
          6376390
         ],
         "y": [
          1,
          6,
          11,
          16,
          21,
          26,
          31,
          36,
          41,
          46,
          51,
          56,
          61,
          66,
          71,
          76,
          81
         ]
        },
        {
         "hoverinfo": "skip",
         "name": "Men 2000",
         "orientation": "h",
         "type": "bar",
         "x": [
          68232005,
          64429036,
          61193295,
          56280636,
          49970630,
          45030641,
          39795717,
          35518381,
          31220826,
          26454908,
          19799857,
          15304864,
          12572817,
          9423233,
          6508084,
          3795007,
          2693647
         ],
         "y": [
          1,
          6,
          11,
          16,
          21,
          26,
          31,
          36,
          41,
          46,
          51,
          56,
          61,
          66,
          71,
          76,
          81
         ]
        },
        {
         "hoverinfo": "skip",
         "name": "Men 1980",
         "orientation": "h",
         "type": "bar",
         "x": [
          53787085,
          46954924,
          41762590,
          37662851,
          33539118,
          29004364,
          22564514,
          18635081,
          16882684,
          14850780,
          12799079,
          10479785,
          8176855,
          5926583,
          4062973,
          2250373,
          1535691
         ],
         "y": [
          1,
          6,
          11,
          16,
          21,
          26,
          31,
          36,
          41,
          46,
          51,
          56,
          61,
          66,
          71,
          76,
          81
         ]
        },
        {
         "hoverinfo": "skip",
         "name": "Women 2020",
         "orientation": "h",
         "type": "bar",
         "x": [
          -55952175,
          -58262875,
          -59814870,
          -61362594,
          -59457333,
          -57184933,
          -54279610,
          -49403314,
          -43621841,
          -39150349,
          -34130103,
          -29401712,
          -24542975,
          -19232661,
          -12886752,
          -8263871,
          -8441710
         ],
         "y": [
          1,
          6,
          11,
          16,
          21,
          26,
          31,
          36,
          41,
          46,
          51,
          56,
          61,
          66,
          71,
          76,
          81
         ]
        },
        {
         "hoverinfo": "skip",
         "name": "Women 2000",
         "orientation": "h",
         "type": "bar",
         "x": [
          -61990417,
          -59019333,
          -56535503,
          -51860295,
          -46007647,
          -41534897,
          -36757985,
          -32747184,
          -28665878,
          -24268857,
          -18789420,
          -15102522,
          -12933548,
          -10018390,
          -7005762,
          -4407697,
          -3764760
         ],
         "y": [
          1,
          6,
          11,
          16,
          21,
          26,
          31,
          36,
          41,
          46,
          51,
          56,
          61,
          66,
          71,
          76,
          81
         ]
        },
        {
         "hoverinfo": "skip",
         "name": "Women 1980",
         "orientation": "h",
         "type": "bar",
         "x": [
          -50245543,
          -43737025,
          -38875390,
          -34890669,
          -30708253,
          -26227658,
          -20737139,
          -17389187,
          -15961777,
          -13967947,
          -11734038,
          -9684504,
          -7803194,
          -5893142,
          -4144094,
          -2281145,
          -1672350
         ],
         "y": [
          1,
          6,
          11,
          16,
          21,
          26,
          31,
          36,
          41,
          46,
          51,
          56,
          61,
          66,
          71,
          76,
          81
         ]
        }
       ],
       "layout": {
        "barmode": "overlay",
        "template": {
         "data": {
          "bar": [
           {
            "error_x": {
             "color": "#2a3f5f"
            },
            "error_y": {
             "color": "#2a3f5f"
            },
            "marker": {
             "line": {
              "color": "#E5ECF6",
              "width": 0.5
             },
             "pattern": {
              "fillmode": "overlay",
              "size": 10,
              "solidity": 0.2
             }
            },
            "type": "bar"
           }
          ],
          "barpolar": [
           {
            "marker": {
             "line": {
              "color": "#E5ECF6",
              "width": 0.5
             },
             "pattern": {
              "fillmode": "overlay",
              "size": 10,
              "solidity": 0.2
             }
            },
            "type": "barpolar"
           }
          ],
          "carpet": [
           {
            "aaxis": {
             "endlinecolor": "#2a3f5f",
             "gridcolor": "white",
             "linecolor": "white",
             "minorgridcolor": "white",
             "startlinecolor": "#2a3f5f"
            },
            "baxis": {
             "endlinecolor": "#2a3f5f",
             "gridcolor": "white",
             "linecolor": "white",
             "minorgridcolor": "white",
             "startlinecolor": "#2a3f5f"
            },
            "type": "carpet"
           }
          ],
          "choropleth": [
           {
            "colorbar": {
             "outlinewidth": 0,
             "ticks": ""
            },
            "type": "choropleth"
           }
          ],
          "contour": [
           {
            "colorbar": {
             "outlinewidth": 0,
             "ticks": ""
            },
            "colorscale": [
             [
              0,
              "#0d0887"
             ],
             [
              0.1111111111111111,
              "#46039f"
             ],
             [
              0.2222222222222222,
              "#7201a8"
             ],
             [
              0.3333333333333333,
              "#9c179e"
             ],
             [
              0.4444444444444444,
              "#bd3786"
             ],
             [
              0.5555555555555556,
              "#d8576b"
             ],
             [
              0.6666666666666666,
              "#ed7953"
             ],
             [
              0.7777777777777778,
              "#fb9f3a"
             ],
             [
              0.8888888888888888,
              "#fdca26"
             ],
             [
              1,
              "#f0f921"
             ]
            ],
            "type": "contour"
           }
          ],
          "contourcarpet": [
           {
            "colorbar": {
             "outlinewidth": 0,
             "ticks": ""
            },
            "type": "contourcarpet"
           }
          ],
          "heatmap": [
           {
            "colorbar": {
             "outlinewidth": 0,
             "ticks": ""
            },
            "colorscale": [
             [
              0,
              "#0d0887"
             ],
             [
              0.1111111111111111,
              "#46039f"
             ],
             [
              0.2222222222222222,
              "#7201a8"
             ],
             [
              0.3333333333333333,
              "#9c179e"
             ],
             [
              0.4444444444444444,
              "#bd3786"
             ],
             [
              0.5555555555555556,
              "#d8576b"
             ],
             [
              0.6666666666666666,
              "#ed7953"
             ],
             [
              0.7777777777777778,
              "#fb9f3a"
             ],
             [
              0.8888888888888888,
              "#fdca26"
             ],
             [
              1,
              "#f0f921"
             ]
            ],
            "type": "heatmap"
           }
          ],
          "heatmapgl": [
           {
            "colorbar": {
             "outlinewidth": 0,
             "ticks": ""
            },
            "colorscale": [
             [
              0,
              "#0d0887"
             ],
             [
              0.1111111111111111,
              "#46039f"
             ],
             [
              0.2222222222222222,
              "#7201a8"
             ],
             [
              0.3333333333333333,
              "#9c179e"
             ],
             [
              0.4444444444444444,
              "#bd3786"
             ],
             [
              0.5555555555555556,
              "#d8576b"
             ],
             [
              0.6666666666666666,
              "#ed7953"
             ],
             [
              0.7777777777777778,
              "#fb9f3a"
             ],
             [
              0.8888888888888888,
              "#fdca26"
             ],
             [
              1,
              "#f0f921"
             ]
            ],
            "type": "heatmapgl"
           }
          ],
          "histogram": [
           {
            "marker": {
             "pattern": {
              "fillmode": "overlay",
              "size": 10,
              "solidity": 0.2
             }
            },
            "type": "histogram"
           }
          ],
          "histogram2d": [
           {
            "colorbar": {
             "outlinewidth": 0,
             "ticks": ""
            },
            "colorscale": [
             [
              0,
              "#0d0887"
             ],
             [
              0.1111111111111111,
              "#46039f"
             ],
             [
              0.2222222222222222,
              "#7201a8"
             ],
             [
              0.3333333333333333,
              "#9c179e"
             ],
             [
              0.4444444444444444,
              "#bd3786"
             ],
             [
              0.5555555555555556,
              "#d8576b"
             ],
             [
              0.6666666666666666,
              "#ed7953"
             ],
             [
              0.7777777777777778,
              "#fb9f3a"
             ],
             [
              0.8888888888888888,
              "#fdca26"
             ],
             [
              1,
              "#f0f921"
             ]
            ],
            "type": "histogram2d"
           }
          ],
          "histogram2dcontour": [
           {
            "colorbar": {
             "outlinewidth": 0,
             "ticks": ""
            },
            "colorscale": [
             [
              0,
              "#0d0887"
             ],
             [
              0.1111111111111111,
              "#46039f"
             ],
             [
              0.2222222222222222,
              "#7201a8"
             ],
             [
              0.3333333333333333,
              "#9c179e"
             ],
             [
              0.4444444444444444,
              "#bd3786"
             ],
             [
              0.5555555555555556,
              "#d8576b"
             ],
             [
              0.6666666666666666,
              "#ed7953"
             ],
             [
              0.7777777777777778,
              "#fb9f3a"
             ],
             [
              0.8888888888888888,
              "#fdca26"
             ],
             [
              1,
              "#f0f921"
             ]
            ],
            "type": "histogram2dcontour"
           }
          ],
          "mesh3d": [
           {
            "colorbar": {
             "outlinewidth": 0,
             "ticks": ""
            },
            "type": "mesh3d"
           }
          ],
          "parcoords": [
           {
            "line": {
             "colorbar": {
              "outlinewidth": 0,
              "ticks": ""
             }
            },
            "type": "parcoords"
           }
          ],
          "pie": [
           {
            "automargin": true,
            "type": "pie"
           }
          ],
          "scatter": [
           {
            "marker": {
             "colorbar": {
              "outlinewidth": 0,
              "ticks": ""
             }
            },
            "type": "scatter"
           }
          ],
          "scatter3d": [
           {
            "line": {
             "colorbar": {
              "outlinewidth": 0,
              "ticks": ""
             }
            },
            "marker": {
             "colorbar": {
              "outlinewidth": 0,
              "ticks": ""
             }
            },
            "type": "scatter3d"
           }
          ],
          "scattercarpet": [
           {
            "marker": {
             "colorbar": {
              "outlinewidth": 0,
              "ticks": ""
             }
            },
            "type": "scattercarpet"
           }
          ],
          "scattergeo": [
           {
            "marker": {
             "colorbar": {
              "outlinewidth": 0,
              "ticks": ""
             }
            },
            "type": "scattergeo"
           }
          ],
          "scattergl": [
           {
            "marker": {
             "colorbar": {
              "outlinewidth": 0,
              "ticks": ""
             }
            },
            "type": "scattergl"
           }
          ],
          "scattermapbox": [
           {
            "marker": {
             "colorbar": {
              "outlinewidth": 0,
              "ticks": ""
             }
            },
            "type": "scattermapbox"
           }
          ],
          "scatterpolar": [
           {
            "marker": {
             "colorbar": {
              "outlinewidth": 0,
              "ticks": ""
             }
            },
            "type": "scatterpolar"
           }
          ],
          "scatterpolargl": [
           {
            "marker": {
             "colorbar": {
              "outlinewidth": 0,
              "ticks": ""
             }
            },
            "type": "scatterpolargl"
           }
          ],
          "scatterternary": [
           {
            "marker": {
             "colorbar": {
              "outlinewidth": 0,
              "ticks": ""
             }
            },
            "type": "scatterternary"
           }
          ],
          "surface": [
           {
            "colorbar": {
             "outlinewidth": 0,
             "ticks": ""
            },
            "colorscale": [
             [
              0,
              "#0d0887"
             ],
             [
              0.1111111111111111,
              "#46039f"
             ],
             [
              0.2222222222222222,
              "#7201a8"
             ],
             [
              0.3333333333333333,
              "#9c179e"
             ],
             [
              0.4444444444444444,
              "#bd3786"
             ],
             [
              0.5555555555555556,
              "#d8576b"
             ],
             [
              0.6666666666666666,
              "#ed7953"
             ],
             [
              0.7777777777777778,
              "#fb9f3a"
             ],
             [
              0.8888888888888888,
              "#fdca26"
             ],
             [
              1,
              "#f0f921"
             ]
            ],
            "type": "surface"
           }
          ],
          "table": [
           {
            "cells": {
             "fill": {
              "color": "#EBF0F8"
             },
             "line": {
              "color": "white"
             }
            },
            "header": {
             "fill": {
              "color": "#C8D4E3"
             },
             "line": {
              "color": "white"
             }
            },
            "type": "table"
           }
          ]
         },
         "layout": {
          "annotationdefaults": {
           "arrowcolor": "#2a3f5f",
           "arrowhead": 0,
           "arrowwidth": 1
          },
          "autotypenumbers": "strict",
          "coloraxis": {
           "colorbar": {
            "outlinewidth": 0,
            "ticks": ""
           }
          },
          "colorscale": {
           "diverging": [
            [
             0,
             "#8e0152"
            ],
            [
             0.1,
             "#c51b7d"
            ],
            [
             0.2,
             "#de77ae"
            ],
            [
             0.3,
             "#f1b6da"
            ],
            [
             0.4,
             "#fde0ef"
            ],
            [
             0.5,
             "#f7f7f7"
            ],
            [
             0.6,
             "#e6f5d0"
            ],
            [
             0.7,
             "#b8e186"
            ],
            [
             0.8,
             "#7fbc41"
            ],
            [
             0.9,
             "#4d9221"
            ],
            [
             1,
             "#276419"
            ]
           ],
           "sequential": [
            [
             0,
             "#0d0887"
            ],
            [
             0.1111111111111111,
             "#46039f"
            ],
            [
             0.2222222222222222,
             "#7201a8"
            ],
            [
             0.3333333333333333,
             "#9c179e"
            ],
            [
             0.4444444444444444,
             "#bd3786"
            ],
            [
             0.5555555555555556,
             "#d8576b"
            ],
            [
             0.6666666666666666,
             "#ed7953"
            ],
            [
             0.7777777777777778,
             "#fb9f3a"
            ],
            [
             0.8888888888888888,
             "#fdca26"
            ],
            [
             1,
             "#f0f921"
            ]
           ],
           "sequentialminus": [
            [
             0,
             "#0d0887"
            ],
            [
             0.1111111111111111,
             "#46039f"
            ],
            [
             0.2222222222222222,
             "#7201a8"
            ],
            [
             0.3333333333333333,
             "#9c179e"
            ],
            [
             0.4444444444444444,
             "#bd3786"
            ],
            [
             0.5555555555555556,
             "#d8576b"
            ],
            [
             0.6666666666666666,
             "#ed7953"
            ],
            [
             0.7777777777777778,
             "#fb9f3a"
            ],
            [
             0.8888888888888888,
             "#fdca26"
            ],
            [
             1,
             "#f0f921"
            ]
           ]
          },
          "colorway": [
           "#636efa",
           "#EF553B",
           "#00cc96",
           "#ab63fa",
           "#FFA15A",
           "#19d3f3",
           "#FF6692",
           "#B6E880",
           "#FF97FF",
           "#FECB52"
          ],
          "font": {
           "color": "#2a3f5f"
          },
          "geo": {
           "bgcolor": "white",
           "lakecolor": "white",
           "landcolor": "#E5ECF6",
           "showlakes": true,
           "showland": true,
           "subunitcolor": "white"
          },
          "hoverlabel": {
           "align": "left"
          },
          "hovermode": "closest",
          "mapbox": {
           "style": "light"
          },
          "paper_bgcolor": "white",
          "plot_bgcolor": "#E5ECF6",
          "polar": {
           "angularaxis": {
            "gridcolor": "white",
            "linecolor": "white",
            "ticks": ""
           },
           "bgcolor": "#E5ECF6",
           "radialaxis": {
            "gridcolor": "white",
            "linecolor": "white",
            "ticks": ""
           }
          },
          "scene": {
           "xaxis": {
            "backgroundcolor": "#E5ECF6",
            "gridcolor": "white",
            "gridwidth": 2,
            "linecolor": "white",
            "showbackground": true,
            "ticks": "",
            "zerolinecolor": "white"
           },
           "yaxis": {
            "backgroundcolor": "#E5ECF6",
            "gridcolor": "white",
            "gridwidth": 2,
            "linecolor": "white",
            "showbackground": true,
            "ticks": "",
            "zerolinecolor": "white"
           },
           "zaxis": {
            "backgroundcolor": "#E5ECF6",
            "gridcolor": "white",
            "gridwidth": 2,
            "linecolor": "white",
            "showbackground": true,
            "ticks": "",
            "zerolinecolor": "white"
           }
          },
          "shapedefaults": {
           "line": {
            "color": "#2a3f5f"
           }
          },
          "ternary": {
           "aaxis": {
            "gridcolor": "white",
            "linecolor": "white",
            "ticks": ""
           },
           "baxis": {
            "gridcolor": "white",
            "linecolor": "white",
            "ticks": ""
           },
           "bgcolor": "#E5ECF6",
           "caxis": {
            "gridcolor": "white",
            "linecolor": "white",
            "ticks": ""
           }
          },
          "title": {
           "x": 0.05
          },
          "xaxis": {
           "automargin": true,
           "gridcolor": "white",
           "linecolor": "white",
           "ticks": "",
           "title": {
            "standoff": 15
           },
           "zerolinecolor": "white",
           "zerolinewidth": 2
          },
          "yaxis": {
           "automargin": true,
           "gridcolor": "white",
           "linecolor": "white",
           "ticks": "",
           "title": {
            "standoff": 15
           },
           "zerolinecolor": "white",
           "zerolinewidth": 2
          }
         }
        },
        "xaxis": {
         "title": {
          "text": "Number"
         }
        },
        "yaxis": {
         "range": [
          0,
          90
         ],
         "title": {
          "text": "Age"
         }
        }
       }
      },
      "text/html": [
       "<div>                            <div id=\"329a3821-4810-443e-a9d6-3aa93af75e29\" class=\"plotly-graph-div\" style=\"height:525px; width:100%;\"></div>            <script type=\"text/javascript\">                require([\"plotly\"], function(Plotly) {                    window.PLOTLYENV=window.PLOTLYENV || {};                                    if (document.getElementById(\"329a3821-4810-443e-a9d6-3aa93af75e29\")) {                    Plotly.newPlot(                        \"329a3821-4810-443e-a9d6-3aa93af75e29\",                        [{\"hoverinfo\":\"skip\",\"name\":\"Men 2020\",\"orientation\":\"h\",\"type\":\"bar\",\"x\":[60771735.0,63921193.0,65906417.0,67689391.0,65745248.0,62448056.0,58647559.0,53259451.0,46635684.0,41235304.0,35543107.0,30253405.0,24594476.0,18942792.0,11995529.0,7031714.0,6376390.0],\"y\":[1,6,11,16,21,26,31,36,41,46,51,56,61,66,71,76,81]},{\"hoverinfo\":\"skip\",\"name\":\"Men 2000\",\"orientation\":\"h\",\"type\":\"bar\",\"x\":[68232005.0,64429036.0,61193295.0,56280636.0,49970630.0,45030641.0,39795717.0,35518381.0,31220826.0,26454908.0,19799857.0,15304864.0,12572817.0,9423233.0,6508084.0,3795007.0,2693647.0],\"y\":[1,6,11,16,21,26,31,36,41,46,51,56,61,66,71,76,81]},{\"hoverinfo\":\"skip\",\"name\":\"Men 1980\",\"orientation\":\"h\",\"type\":\"bar\",\"x\":[53787085.0,46954924.0,41762590.0,37662851.0,33539118.0,29004364.0,22564514.0,18635081.0,16882684.0,14850780.0,12799079.0,10479785.0,8176855.0,5926583.0,4062973.0,2250373.0,1535691.0],\"y\":[1,6,11,16,21,26,31,36,41,46,51,56,61,66,71,76,81]},{\"hoverinfo\":\"skip\",\"name\":\"Women 2020\",\"orientation\":\"h\",\"type\":\"bar\",\"x\":[-55952175.0,-58262875.0,-59814870.0,-61362594.0,-59457333.0,-57184933.0,-54279610.0,-49403314.0,-43621841.0,-39150349.0,-34130103.0,-29401712.0,-24542975.0,-19232661.0,-12886752.0,-8263871.0,-8441710.0],\"y\":[1,6,11,16,21,26,31,36,41,46,51,56,61,66,71,76,81]},{\"hoverinfo\":\"skip\",\"name\":\"Women 2000\",\"orientation\":\"h\",\"type\":\"bar\",\"x\":[-61990417.0,-59019333.0,-56535503.0,-51860295.0,-46007647.0,-41534897.0,-36757985.0,-32747184.0,-28665878.0,-24268857.0,-18789420.0,-15102522.0,-12933548.0,-10018390.0,-7005762.0,-4407697.0,-3764760.0],\"y\":[1,6,11,16,21,26,31,36,41,46,51,56,61,66,71,76,81]},{\"hoverinfo\":\"skip\",\"name\":\"Women 1980\",\"orientation\":\"h\",\"type\":\"bar\",\"x\":[-50245543.0,-43737025.0,-38875390.0,-34890669.0,-30708253.0,-26227658.0,-20737139.0,-17389187.0,-15961777.0,-13967947.0,-11734038.0,-9684504.0,-7803194.0,-5893142.0,-4144094.0,-2281145.0,-1672350.0],\"y\":[1,6,11,16,21,26,31,36,41,46,51,56,61,66,71,76,81]}],                        {\"barmode\":\"overlay\",\"template\":{\"data\":{\"bar\":[{\"error_x\":{\"color\":\"#2a3f5f\"},\"error_y\":{\"color\":\"#2a3f5f\"},\"marker\":{\"line\":{\"color\":\"#E5ECF6\",\"width\":0.5},\"pattern\":{\"fillmode\":\"overlay\",\"size\":10,\"solidity\":0.2}},\"type\":\"bar\"}],\"barpolar\":[{\"marker\":{\"line\":{\"color\":\"#E5ECF6\",\"width\":0.5},\"pattern\":{\"fillmode\":\"overlay\",\"size\":10,\"solidity\":0.2}},\"type\":\"barpolar\"}],\"carpet\":[{\"aaxis\":{\"endlinecolor\":\"#2a3f5f\",\"gridcolor\":\"white\",\"linecolor\":\"white\",\"minorgridcolor\":\"white\",\"startlinecolor\":\"#2a3f5f\"},\"baxis\":{\"endlinecolor\":\"#2a3f5f\",\"gridcolor\":\"white\",\"linecolor\":\"white\",\"minorgridcolor\":\"white\",\"startlinecolor\":\"#2a3f5f\"},\"type\":\"carpet\"}],\"choropleth\":[{\"colorbar\":{\"outlinewidth\":0,\"ticks\":\"\"},\"type\":\"choropleth\"}],\"contour\":[{\"colorbar\":{\"outlinewidth\":0,\"ticks\":\"\"},\"colorscale\":[[0.0,\"#0d0887\"],[0.1111111111111111,\"#46039f\"],[0.2222222222222222,\"#7201a8\"],[0.3333333333333333,\"#9c179e\"],[0.4444444444444444,\"#bd3786\"],[0.5555555555555556,\"#d8576b\"],[0.6666666666666666,\"#ed7953\"],[0.7777777777777778,\"#fb9f3a\"],[0.8888888888888888,\"#fdca26\"],[1.0,\"#f0f921\"]],\"type\":\"contour\"}],\"contourcarpet\":[{\"colorbar\":{\"outlinewidth\":0,\"ticks\":\"\"},\"type\":\"contourcarpet\"}],\"heatmap\":[{\"colorbar\":{\"outlinewidth\":0,\"ticks\":\"\"},\"colorscale\":[[0.0,\"#0d0887\"],[0.1111111111111111,\"#46039f\"],[0.2222222222222222,\"#7201a8\"],[0.3333333333333333,\"#9c179e\"],[0.4444444444444444,\"#bd3786\"],[0.5555555555555556,\"#d8576b\"],[0.6666666666666666,\"#ed7953\"],[0.7777777777777778,\"#fb9f3a\"],[0.8888888888888888,\"#fdca26\"],[1.0,\"#f0f921\"]],\"type\":\"heatmap\"}],\"heatmapgl\":[{\"colorbar\":{\"outlinewidth\":0,\"ticks\":\"\"},\"colorscale\":[[0.0,\"#0d0887\"],[0.1111111111111111,\"#46039f\"],[0.2222222222222222,\"#7201a8\"],[0.3333333333333333,\"#9c179e\"],[0.4444444444444444,\"#bd3786\"],[0.5555555555555556,\"#d8576b\"],[0.6666666666666666,\"#ed7953\"],[0.7777777777777778,\"#fb9f3a\"],[0.8888888888888888,\"#fdca26\"],[1.0,\"#f0f921\"]],\"type\":\"heatmapgl\"}],\"histogram\":[{\"marker\":{\"pattern\":{\"fillmode\":\"overlay\",\"size\":10,\"solidity\":0.2}},\"type\":\"histogram\"}],\"histogram2d\":[{\"colorbar\":{\"outlinewidth\":0,\"ticks\":\"\"},\"colorscale\":[[0.0,\"#0d0887\"],[0.1111111111111111,\"#46039f\"],[0.2222222222222222,\"#7201a8\"],[0.3333333333333333,\"#9c179e\"],[0.4444444444444444,\"#bd3786\"],[0.5555555555555556,\"#d8576b\"],[0.6666666666666666,\"#ed7953\"],[0.7777777777777778,\"#fb9f3a\"],[0.8888888888888888,\"#fdca26\"],[1.0,\"#f0f921\"]],\"type\":\"histogram2d\"}],\"histogram2dcontour\":[{\"colorbar\":{\"outlinewidth\":0,\"ticks\":\"\"},\"colorscale\":[[0.0,\"#0d0887\"],[0.1111111111111111,\"#46039f\"],[0.2222222222222222,\"#7201a8\"],[0.3333333333333333,\"#9c179e\"],[0.4444444444444444,\"#bd3786\"],[0.5555555555555556,\"#d8576b\"],[0.6666666666666666,\"#ed7953\"],[0.7777777777777778,\"#fb9f3a\"],[0.8888888888888888,\"#fdca26\"],[1.0,\"#f0f921\"]],\"type\":\"histogram2dcontour\"}],\"mesh3d\":[{\"colorbar\":{\"outlinewidth\":0,\"ticks\":\"\"},\"type\":\"mesh3d\"}],\"parcoords\":[{\"line\":{\"colorbar\":{\"outlinewidth\":0,\"ticks\":\"\"}},\"type\":\"parcoords\"}],\"pie\":[{\"automargin\":true,\"type\":\"pie\"}],\"scatter\":[{\"marker\":{\"colorbar\":{\"outlinewidth\":0,\"ticks\":\"\"}},\"type\":\"scatter\"}],\"scatter3d\":[{\"line\":{\"colorbar\":{\"outlinewidth\":0,\"ticks\":\"\"}},\"marker\":{\"colorbar\":{\"outlinewidth\":0,\"ticks\":\"\"}},\"type\":\"scatter3d\"}],\"scattercarpet\":[{\"marker\":{\"colorbar\":{\"outlinewidth\":0,\"ticks\":\"\"}},\"type\":\"scattercarpet\"}],\"scattergeo\":[{\"marker\":{\"colorbar\":{\"outlinewidth\":0,\"ticks\":\"\"}},\"type\":\"scattergeo\"}],\"scattergl\":[{\"marker\":{\"colorbar\":{\"outlinewidth\":0,\"ticks\":\"\"}},\"type\":\"scattergl\"}],\"scattermapbox\":[{\"marker\":{\"colorbar\":{\"outlinewidth\":0,\"ticks\":\"\"}},\"type\":\"scattermapbox\"}],\"scatterpolar\":[{\"marker\":{\"colorbar\":{\"outlinewidth\":0,\"ticks\":\"\"}},\"type\":\"scatterpolar\"}],\"scatterpolargl\":[{\"marker\":{\"colorbar\":{\"outlinewidth\":0,\"ticks\":\"\"}},\"type\":\"scatterpolargl\"}],\"scatterternary\":[{\"marker\":{\"colorbar\":{\"outlinewidth\":0,\"ticks\":\"\"}},\"type\":\"scatterternary\"}],\"surface\":[{\"colorbar\":{\"outlinewidth\":0,\"ticks\":\"\"},\"colorscale\":[[0.0,\"#0d0887\"],[0.1111111111111111,\"#46039f\"],[0.2222222222222222,\"#7201a8\"],[0.3333333333333333,\"#9c179e\"],[0.4444444444444444,\"#bd3786\"],[0.5555555555555556,\"#d8576b\"],[0.6666666666666666,\"#ed7953\"],[0.7777777777777778,\"#fb9f3a\"],[0.8888888888888888,\"#fdca26\"],[1.0,\"#f0f921\"]],\"type\":\"surface\"}],\"table\":[{\"cells\":{\"fill\":{\"color\":\"#EBF0F8\"},\"line\":{\"color\":\"white\"}},\"header\":{\"fill\":{\"color\":\"#C8D4E3\"},\"line\":{\"color\":\"white\"}},\"type\":\"table\"}]},\"layout\":{\"annotationdefaults\":{\"arrowcolor\":\"#2a3f5f\",\"arrowhead\":0,\"arrowwidth\":1},\"autotypenumbers\":\"strict\",\"coloraxis\":{\"colorbar\":{\"outlinewidth\":0,\"ticks\":\"\"}},\"colorscale\":{\"diverging\":[[0,\"#8e0152\"],[0.1,\"#c51b7d\"],[0.2,\"#de77ae\"],[0.3,\"#f1b6da\"],[0.4,\"#fde0ef\"],[0.5,\"#f7f7f7\"],[0.6,\"#e6f5d0\"],[0.7,\"#b8e186\"],[0.8,\"#7fbc41\"],[0.9,\"#4d9221\"],[1,\"#276419\"]],\"sequential\":[[0.0,\"#0d0887\"],[0.1111111111111111,\"#46039f\"],[0.2222222222222222,\"#7201a8\"],[0.3333333333333333,\"#9c179e\"],[0.4444444444444444,\"#bd3786\"],[0.5555555555555556,\"#d8576b\"],[0.6666666666666666,\"#ed7953\"],[0.7777777777777778,\"#fb9f3a\"],[0.8888888888888888,\"#fdca26\"],[1.0,\"#f0f921\"]],\"sequentialminus\":[[0.0,\"#0d0887\"],[0.1111111111111111,\"#46039f\"],[0.2222222222222222,\"#7201a8\"],[0.3333333333333333,\"#9c179e\"],[0.4444444444444444,\"#bd3786\"],[0.5555555555555556,\"#d8576b\"],[0.6666666666666666,\"#ed7953\"],[0.7777777777777778,\"#fb9f3a\"],[0.8888888888888888,\"#fdca26\"],[1.0,\"#f0f921\"]]},\"colorway\":[\"#636efa\",\"#EF553B\",\"#00cc96\",\"#ab63fa\",\"#FFA15A\",\"#19d3f3\",\"#FF6692\",\"#B6E880\",\"#FF97FF\",\"#FECB52\"],\"font\":{\"color\":\"#2a3f5f\"},\"geo\":{\"bgcolor\":\"white\",\"lakecolor\":\"white\",\"landcolor\":\"#E5ECF6\",\"showlakes\":true,\"showland\":true,\"subunitcolor\":\"white\"},\"hoverlabel\":{\"align\":\"left\"},\"hovermode\":\"closest\",\"mapbox\":{\"style\":\"light\"},\"paper_bgcolor\":\"white\",\"plot_bgcolor\":\"#E5ECF6\",\"polar\":{\"angularaxis\":{\"gridcolor\":\"white\",\"linecolor\":\"white\",\"ticks\":\"\"},\"bgcolor\":\"#E5ECF6\",\"radialaxis\":{\"gridcolor\":\"white\",\"linecolor\":\"white\",\"ticks\":\"\"}},\"scene\":{\"xaxis\":{\"backgroundcolor\":\"#E5ECF6\",\"gridcolor\":\"white\",\"gridwidth\":2,\"linecolor\":\"white\",\"showbackground\":true,\"ticks\":\"\",\"zerolinecolor\":\"white\"},\"yaxis\":{\"backgroundcolor\":\"#E5ECF6\",\"gridcolor\":\"white\",\"gridwidth\":2,\"linecolor\":\"white\",\"showbackground\":true,\"ticks\":\"\",\"zerolinecolor\":\"white\"},\"zaxis\":{\"backgroundcolor\":\"#E5ECF6\",\"gridcolor\":\"white\",\"gridwidth\":2,\"linecolor\":\"white\",\"showbackground\":true,\"ticks\":\"\",\"zerolinecolor\":\"white\"}},\"shapedefaults\":{\"line\":{\"color\":\"#2a3f5f\"}},\"ternary\":{\"aaxis\":{\"gridcolor\":\"white\",\"linecolor\":\"white\",\"ticks\":\"\"},\"baxis\":{\"gridcolor\":\"white\",\"linecolor\":\"white\",\"ticks\":\"\"},\"bgcolor\":\"#E5ECF6\",\"caxis\":{\"gridcolor\":\"white\",\"linecolor\":\"white\",\"ticks\":\"\"}},\"title\":{\"x\":0.05},\"xaxis\":{\"automargin\":true,\"gridcolor\":\"white\",\"linecolor\":\"white\",\"ticks\":\"\",\"title\":{\"standoff\":15},\"zerolinecolor\":\"white\",\"zerolinewidth\":2},\"yaxis\":{\"automargin\":true,\"gridcolor\":\"white\",\"linecolor\":\"white\",\"ticks\":\"\",\"title\":{\"standoff\":15},\"zerolinecolor\":\"white\",\"zerolinewidth\":2}}},\"xaxis\":{\"title\":{\"text\":\"Number\"}},\"yaxis\":{\"range\":[0,90],\"title\":{\"text\":\"Age\"}}},                        {\"responsive\": true}                    ).then(function(){\n",
       "                            \n",
       "var gd = document.getElementById('329a3821-4810-443e-a9d6-3aa93af75e29');\n",
       "var x = new MutationObserver(function (mutations, observer) {{\n",
       "        var display = window.getComputedStyle(gd).display;\n",
       "        if (!display || display === 'none') {{\n",
       "            console.log([gd, 'removed!']);\n",
       "            Plotly.purge(gd);\n",
       "            observer.disconnect();\n",
       "        }}\n",
       "}});\n",
       "\n",
       "// Listen for the removal of the full notebook cells\n",
       "var notebookContainer = gd.closest('#notebook-container');\n",
       "if (notebookContainer) {{\n",
       "    x.observe(notebookContainer, {childList: true});\n",
       "}}\n",
       "\n",
       "// Listen for the clearing of the current output cell\n",
       "var outputEl = gd.closest('.output');\n",
       "if (outputEl) {{\n",
       "    x.observe(outputEl, {childList: true});\n",
       "}}\n",
       "\n",
       "                        })                };                });            </script>        </div>"
      ]
     },
     "metadata": {},
     "output_type": "display_data"
    },
    {
     "data": {
      "text/plain": [
       "(None, None, None)"
      ]
     },
     "execution_count": 6,
     "metadata": {},
     "output_type": "execute_result"
    }
   ],
   "source": [
    "age_ranges = []\n",
    "\n",
    "\n",
    "py.init_notebook_mode(connected=True)\n",
    "\n",
    "layout = go.Layout(barmode='overlay',\n",
    "                   yaxis=go.layout.YAxis(range=[0, 90], title='Age'),\n",
    "                   xaxis=go.layout.XAxis(title='Number'))\n",
    "\n",
    "for i in range(0,80,5):\n",
    "    age_ranges.append(f\"{i:02d}\"+f\"{i+4:02d}\")\n",
    "\n",
    "age_ranges.append(\"80UP\")\n",
    "\n",
    "male_variables = {\"SP.POP.\"+age_range+\".MA\":\"Males \"+age_range for age_range in age_ranges}\n",
    "female_variables = {\"SP.POP.\"+age_range+\".FE\":\"Females \"+age_range for age_range in age_ranges}\n",
    "\n",
    "variables = male_variables\n",
    "variables.update(female_variables)\n",
    "\n",
    "def fun(country):\n",
    "    df = wbdata.get_dataframe(variables,country=country)\n",
    "    #print(df.query(\"date=='2020'\").sum(axis=0))\n",
    "    years = range(2020,1960,-20)\n",
    "\n",
    "    # This makes a list of graphs, year by year\n",
    "    bins = [go.Bar(x = df.loc[str(year),:].filter(regex=\"Male\").values,\n",
    "                   y = [int(s[:2])+1 for s in age_ranges],\n",
    "                   orientation='h',\n",
    "                   name='Men {:d}'.format(year),\n",
    "                   hoverinfo='skip'\n",
    "                  )\n",
    "            for year in years]\n",
    "          \n",
    "    bins += [go.Bar(x = -df.loc[str(year),:].filter(regex=\"Female\").values,\n",
    "                    y=[int(s[:2])+1 for s in age_ranges],\n",
    "                    orientation='h',\n",
    "                    name='Women {:d}'.format(year),\n",
    "                    hoverinfo='skip',\n",
    "               )\n",
    "             for year in years]\n",
    "    return py.iplot(dict(data=bins, layout=layout))\n",
    "fun(\"USA\"), fun(\"JPN\"), fun(\"IND\")"
   ]
  },
  {
   "cell_type": "markdown",
   "id": "112d48fd",
   "metadata": {},
   "source": [
    "#### [Deliverable #B]  Data Analysis Functions and Plots "
   ]
  },
  {
   "cell_type": "markdown",
   "id": "99d8c69c",
   "metadata": {},
   "source": [
    "Growth Rate Function: Takes in initial year, final year, country, indicator and year step size (eg: 20 years) \n",
    "and outputs a list of growth rates of the indicator for the year increments  \n",
    "\n",
    "Average Function: Takes in initial year, final year, country, indicator and year step size (eg: 20 years) and outputs a list of averages over the step sizes. "
   ]
  },
  {
   "cell_type": "code",
   "execution_count": 7,
   "id": "a810a3b2",
   "metadata": {},
   "outputs": [],
   "source": [
    "def growth_rate(initial, final, country, indicator, step):\n",
    "    df = wbdata.get_dataframe(indicators, country=country)\n",
    "    df.index = df.index.astype(\"int\")\n",
    "    start_years = np.arange(initial, final, step)\n",
    "    end_years = np.arange(initial + step - 1, final + step, step)\n",
    "    init_data = [df.loc[i, indicator] for i in start_years]\n",
    "    fin_data = [df.loc[e, indicator] for e in end_years]\n",
    "    pair = [(init_data[i], fin_data[i]) for i in range(0, len(init_data))]\n",
    "    return [(((x[1] - x[0])/x[0]) * 100) for  x in pair ]\n",
    "\n",
    "def average(initial, final, country, indicator, step):\n",
    "    df = wbdata.get_dataframe(indicators, country=country)\n",
    "    df.index = df.index.astype(\"int\")\n",
    "    start_years = np.arange(initial, final, step)\n",
    "    end_years = np.arange(initial + step - 1, final + step, step)\n",
    "    pair = [(start_years[i], end_years[i]) for i in range(0, len(start_years))]\n",
    "    lts = [[df.loc[x[1]:x[0], indicator]] for x in pair]\n",
    "    return [np.average(i) for i in lts]"
   ]
  },
  {
   "cell_type": "markdown",
   "id": "efb4125b",
   "metadata": {},
   "source": [
    "#### Analysis Dataframe: \n",
    "A DataFrame with growth rates and average rates over 20 year periods from 1960-2020 for USA, India and Japan. The indicators include:\n",
    "1. GDP per capita growth\n",
    "2. Population Growth\n",
    "3. Average Fertility Rate\n",
    "4. Urban Population growth"
   ]
  },
  {
   "cell_type": "code",
   "execution_count": 8,
   "id": "0395dea2",
   "metadata": {},
   "outputs": [],
   "source": [
    "#Create new dataframe called Analysis with GDP growth, Population Growth, Average Total Fertility Rate\n",
    "#Add data from US: \n",
    "data = growth_rate(1961, 2020, \"USA\", \"GDP per capita\", 20)\n",
    "index = [\"1961-1980\",\"1981 - 2000\", \"2001 - 2020\"]\n",
    "analysis = pd.DataFrame(data, index, columns = [\"US GDP per capita growth (%)\"])\n",
    "analysis[\"US Population growth (%)\"] = growth_rate(1961, 2020, \"USA\", \"Total Population\", 20)\n",
    "analysis[\"US Average Fertility Rate\"] = average(1961, 2020, \"USA\", \"Total Fertility Rate\", 20)\n",
    "analysis[\"US Urban Population Growth Rate (%)\"] = growth_rate(1961,2020, \"USA\", \"Urban Population (% of total)\", 20)"
   ]
  },
  {
   "cell_type": "code",
   "execution_count": 9,
   "id": "6af33c91",
   "metadata": {},
   "outputs": [],
   "source": [
    "# Add data from Japan to the Analysis dataframe \n",
    "analysis[\"Japan GDP per capita growth (%)\"] = growth_rate(1961, 2020, \"JPN\", \"GDP per capita\", 20)\n",
    "analysis[\"Japan Population growth (%)\"] = growth_rate(1961, 2020, \"JPN\", \"Total Population\", 20)\n",
    "analysis[\"Japan Average Fertility Rate\"] = average(1961, 2020, \"JPN\", \"Total Fertility Rate\", 20)\n",
    "analysis[\"Japan Urban Population Growth Rate (%)\"] = growth_rate(1961,2020, \"JPN\", \"Urban Population (% of total)\", 20)"
   ]
  },
  {
   "cell_type": "code",
   "execution_count": 10,
   "id": "45787d2b",
   "metadata": {},
   "outputs": [],
   "source": [
    "# Add data from India to the Analysis dataframe\n",
    "analysis[\"India GDP per capita growth (%)\"] = growth_rate(1961, 2020, \"IND\", \"GDP per capita\", 20)\n",
    "analysis[\"India Population growth (%)\"] = growth_rate(1961, 2020, \"IND\", \"Total Population\", 20)\n",
    "analysis[\"India Average Fertility Rate\"] = average(1961, 2020, \"IND\", \"Total Fertility Rate\", 20)\n",
    "analysis[\"India Urban Population Growth Rate (%)\"] = growth_rate(1961,2020, \"IND\", \"Urban Population (% of total)\", 20)"
   ]
  },
  {
   "cell_type": "code",
   "execution_count": 11,
   "id": "b1801e8b",
   "metadata": {
    "scrolled": false
   },
   "outputs": [
    {
     "data": {
      "text/html": [
       "<div>\n",
       "<style scoped>\n",
       "    .dataframe tbody tr th:only-of-type {\n",
       "        vertical-align: middle;\n",
       "    }\n",
       "\n",
       "    .dataframe tbody tr th {\n",
       "        vertical-align: top;\n",
       "    }\n",
       "\n",
       "    .dataframe thead th {\n",
       "        text-align: right;\n",
       "    }\n",
       "</style>\n",
       "<table border=\"1\" class=\"dataframe\">\n",
       "  <thead>\n",
       "    <tr style=\"text-align: right;\">\n",
       "      <th></th>\n",
       "      <th>US GDP per capita growth (%)</th>\n",
       "      <th>US Population growth (%)</th>\n",
       "      <th>US Average Fertility Rate</th>\n",
       "      <th>US Urban Population Growth Rate (%)</th>\n",
       "      <th>Japan GDP per capita growth (%)</th>\n",
       "      <th>Japan Population growth (%)</th>\n",
       "      <th>Japan Average Fertility Rate</th>\n",
       "      <th>Japan Urban Population Growth Rate (%)</th>\n",
       "      <th>India GDP per capita growth (%)</th>\n",
       "      <th>India Population growth (%)</th>\n",
       "      <th>India Average Fertility Rate</th>\n",
       "      <th>India Urban Population Growth Rate (%)</th>\n",
       "    </tr>\n",
       "  </thead>\n",
       "  <tbody>\n",
       "    <tr>\n",
       "      <th>1961-1980</th>\n",
       "      <td>310.061428</td>\n",
       "      <td>23.699582</td>\n",
       "      <td>2.394075</td>\n",
       "      <td>4.775708</td>\n",
       "      <td>1563.425042</td>\n",
       "      <td>24.190102</td>\n",
       "      <td>1.98115</td>\n",
       "      <td>18.628627</td>\n",
       "      <td>211.028846</td>\n",
       "      <td>52.695414</td>\n",
       "      <td>5.5065</td>\n",
       "      <td>28.094499</td>\n",
       "    </tr>\n",
       "    <tr>\n",
       "      <th>1981 - 2000</th>\n",
       "      <td>159.943347</td>\n",
       "      <td>22.964801</td>\n",
       "      <td>1.947225</td>\n",
       "      <td>6.992827</td>\n",
       "      <td>278.076116</td>\n",
       "      <td>7.803775</td>\n",
       "      <td>1.56850</td>\n",
       "      <td>3.115126</td>\n",
       "      <td>62.857010</td>\n",
       "      <td>48.643472</td>\n",
       "      <td>4.0112</td>\n",
       "      <td>18.149208</td>\n",
       "    </tr>\n",
       "    <tr>\n",
       "      <th>2001 - 2020</th>\n",
       "      <td>71.086547</td>\n",
       "      <td>16.328840</td>\n",
       "      <td>1.921875</td>\n",
       "      <td>4.328950</td>\n",
       "      <td>16.020333</td>\n",
       "      <td>-0.698393</td>\n",
       "      <td>1.36850</td>\n",
       "      <td>14.741843</td>\n",
       "      <td>324.621968</td>\n",
       "      <td>29.418422</td>\n",
       "      <td>2.6050</td>\n",
       "      <td>25.102085</td>\n",
       "    </tr>\n",
       "  </tbody>\n",
       "</table>\n",
       "</div>"
      ],
      "text/plain": [
       "             US GDP per capita growth (%)  US Population growth (%)  \\\n",
       "1961-1980                      310.061428                 23.699582   \n",
       "1981 - 2000                    159.943347                 22.964801   \n",
       "2001 - 2020                     71.086547                 16.328840   \n",
       "\n",
       "             US Average Fertility Rate  US Urban Population Growth Rate (%)  \\\n",
       "1961-1980                     2.394075                             4.775708   \n",
       "1981 - 2000                   1.947225                             6.992827   \n",
       "2001 - 2020                   1.921875                             4.328950   \n",
       "\n",
       "             Japan GDP per capita growth (%)  Japan Population growth (%)  \\\n",
       "1961-1980                        1563.425042                    24.190102   \n",
       "1981 - 2000                       278.076116                     7.803775   \n",
       "2001 - 2020                        16.020333                    -0.698393   \n",
       "\n",
       "             Japan Average Fertility Rate  \\\n",
       "1961-1980                         1.98115   \n",
       "1981 - 2000                       1.56850   \n",
       "2001 - 2020                       1.36850   \n",
       "\n",
       "             Japan Urban Population Growth Rate (%)  \\\n",
       "1961-1980                                 18.628627   \n",
       "1981 - 2000                                3.115126   \n",
       "2001 - 2020                               14.741843   \n",
       "\n",
       "             India GDP per capita growth (%)  India Population growth (%)  \\\n",
       "1961-1980                         211.028846                    52.695414   \n",
       "1981 - 2000                        62.857010                    48.643472   \n",
       "2001 - 2020                       324.621968                    29.418422   \n",
       "\n",
       "             India Average Fertility Rate  \\\n",
       "1961-1980                          5.5065   \n",
       "1981 - 2000                        4.0112   \n",
       "2001 - 2020                        2.6050   \n",
       "\n",
       "             India Urban Population Growth Rate (%)  \n",
       "1961-1980                                 28.094499  \n",
       "1981 - 2000                               18.149208  \n",
       "2001 - 2020                               25.102085  "
      ]
     },
     "execution_count": 11,
     "metadata": {},
     "output_type": "execute_result"
    }
   ],
   "source": [
    "analysis"
   ]
  },
  {
   "cell_type": "code",
   "execution_count": 12,
   "id": "0f9b3b7c",
   "metadata": {
    "scrolled": false
   },
   "outputs": [
    {
     "data": {
      "text/plain": [
       "<matplotlib.legend.Legend at 0x7f3d378270a0>"
      ]
     },
     "execution_count": 12,
     "metadata": {},
     "output_type": "execute_result"
    },
    {
     "data": {
      "image/png": "[encoded data removed]",
      "text/plain": [
       "<Figure size 1200x800 with 1 Axes>"
      ]
     },
     "metadata": {},
     "output_type": "display_data"
    }
   ],
   "source": [
    "# Create a plot of the GDP growth over the 20 year periods for each country, US, Japan and India  \n",
    "\n",
    "barWidth = 0.25\n",
    "fig = plt.subplots(figsize =(12, 8))\n",
    "\n",
    "# set height of bar\n",
    "USA = analysis.loc[:,\"US GDP per capita growth (%)\"]\n",
    "JPN = analysis.loc[:,\"Japan GDP per capita growth (%)\"]\n",
    "IND = analysis.loc[:,\"India GDP per capita growth (%)\"]\n",
    " \n",
    "# Set position of bar on X axis\n",
    "br1 = np.arange(len(USA))\n",
    "br2 = [x + barWidth for x in br1]\n",
    "br3 = [x + barWidth for x in br2]\n",
    " \n",
    "# Make the plot\n",
    "plt.bar(br1, USA, color =\"steelblue\", width = barWidth, label ='USA')\n",
    "plt.bar(br2, JPN, color =\"indianred\", width = barWidth,\n",
    "         label ='JPN')\n",
    "plt.bar(br3, IND, color ='seagreen', width = barWidth, label ='IND')\n",
    " \n",
    "# Adding Xticks\n",
    "plt.xlabel('Year Range', fontsize = 12)\n",
    "plt.ylabel('GDP Per Capita Growth (%)', fontsize = 12)\n",
    "plt.title(\"GDP Per Capita Growth Over 20 Years (%)\")\n",
    "plt.xticks([r + barWidth for r in range(len(USA))],\n",
    "        analysis.index )\n",
    "max_y_lim = max(JPN) + 40\n",
    "min_y_lim = 0\n",
    "plt.ylim(min_y_lim, max_y_lim)\n",
    " \n",
    "plt.legend()"
   ]
  },
  {
   "cell_type": "code",
   "execution_count": 13,
   "id": "dc693822",
   "metadata": {},
   "outputs": [
    {
     "data": {
      "image/png": "[encoded data removed]",
      "text/plain": [
       "<Figure size 1200x800 with 1 Axes>"
      ]
     },
     "metadata": {},
     "output_type": "display_data"
    }
   ],
   "source": [
    "# Create a plot of the Population growth over the 20 year periods for each country, US, Japan and India  \n",
    "\n",
    "barWidth = 0.25\n",
    "fig = plt.subplots(figsize =(12, 8))\n",
    "\n",
    " \n",
    "# set height of bar\n",
    "USA = analysis.loc[:,\"US Population growth (%)\"]\n",
    "JPN = analysis.loc[:,\"Japan Population growth (%)\"]\n",
    "IND = analysis.loc[:,\"India Population growth (%)\"]\n",
    " \n",
    "# Set position of bar on X axis\n",
    "br1 = np.arange(len(USA))\n",
    "br2 = [x + barWidth for x in br1]\n",
    "br3 = [x + barWidth for x in br2]\n",
    " \n",
    "# Make the plot\n",
    "plt.bar(br1, USA, color =\"steelblue\", width = barWidth, label ='USA')\n",
    "plt.bar(br2, JPN, color =\"indianred\", width = barWidth,\n",
    "         label ='JPN')\n",
    "plt.bar(br3, IND, color ='seagreen', width = barWidth, label ='IND')\n",
    " \n",
    "# Adding Xticks\n",
    "plt.xlabel('Year Range', fontsize = 12)\n",
    "plt.title(\"Total Population Growth Over 20 Years (%)\")\n",
    "plt.ylabel('Total Population Growth (%)', fontsize = 12)\n",
    "plt.xticks([r + barWidth for r in range(len(USA))],\n",
    "        analysis.index )\n",
    "max_y_lim = 100\n",
    "min_y_lim = min(JPN) -2\n",
    "plt.ylim(min_y_lim, max_y_lim)\n",
    " \n",
    "plt.legend()\n",
    "plt.show()"
   ]
  },
  {
   "cell_type": "code",
   "execution_count": 14,
   "id": "2585ade5",
   "metadata": {
    "scrolled": false
   },
   "outputs": [
    {
     "data": {
      "image/png": "[encoded data removed]",
      "text/plain": [
       "<Figure size 1200x800 with 1 Axes>"
      ]
     },
     "metadata": {},
     "output_type": "display_data"
    }
   ],
   "source": [
    "# Create a plot of the Urban Population growth over the 20 year periods for each country, US, Japan and India  \n",
    "\n",
    "barWidth = 0.25\n",
    "fig = plt.subplots(figsize =(12, 8))\n",
    "\n",
    " \n",
    "# set height of bar\n",
    "USA = analysis.loc[:,\"US Urban Population Growth Rate (%)\"]\n",
    "JPN = analysis.loc[:,\"Japan Urban Population Growth Rate (%)\"]\n",
    "IND = analysis.loc[:,\"India Urban Population Growth Rate (%)\"]\n",
    " \n",
    "# Set position of bar on X axis\n",
    "br1 = np.arange(len(USA))\n",
    "br2 = [x + barWidth for x in br1]\n",
    "br3 = [x + barWidth for x in br2]\n",
    " \n",
    "# Make the plot\n",
    "plt.bar(br1, USA, color =\"steelblue\", width = barWidth, label ='USA')\n",
    "plt.bar(br2, JPN, color =\"indianred\", width = barWidth,\n",
    "         label ='JPN')\n",
    "plt.bar(br3, IND, color ='seagreen', width = barWidth, label ='IND')\n",
    " \n",
    "# Adding Xticks\n",
    "plt.xlabel('Year Range', fontsize = 12)\n",
    "plt.title(\"Urban Population Growth Over 20 Years (%)\")\n",
    "plt.ylabel('Urban Population Growth (%)', fontsize = 12)\n",
    "plt.xticks([r + barWidth for r in range(len(USA))],\n",
    "        analysis.index )\n",
    "max_y_lim = max(JPN) + 40\n",
    "min_y_lim = 0\n",
    "plt.ylim(min_y_lim, max_y_lim)\n",
    " \n",
    "plt.legend()\n",
    "plt.show()"
   ]
  },
  {
   "cell_type": "code",
   "execution_count": 15,
   "id": "f7aacda8",
   "metadata": {},
   "outputs": [],
   "source": [
    "us = wbdata.get_dataframe(indicators, country=\"USA\")\n",
    "us.index = us.index.astype(\"int\")\n",
    "\n",
    "jpn = wbdata.get_dataframe(indicators, country=\"JPN\")\n",
    "jpn.index = jpn.index.astype(\"int\")\n",
    "\n",
    "ind = wbdata.get_dataframe(indicators, country=\"IND\")\n",
    "ind.index = ind.index.astype(\"int\")"
   ]
  },
  {
   "cell_type": "code",
   "execution_count": 16,
   "id": "c45ea448",
   "metadata": {},
   "outputs": [
    {
     "data": {
      "text/plain": [
       "Text(0.5, 1.0, 'GDP Growth vs Average Fertility Rate over 20 Years')"
      ]
     },
     "execution_count": 16,
     "metadata": {},
     "output_type": "execute_result"
    },
    {
     "data": {
      "image/png": "[encoded data removed]",
      "text/plain": [
       "<Figure size 640x480 with 1 Axes>"
      ]
     },
     "metadata": {},
     "output_type": "display_data"
    }
   ],
   "source": [
    "# Scatter Plot of GDP Growth vs Average Fertility Rate \n",
    "# [\"lightblue\", \"steelblue\", \"darkblue\"]\n",
    "\n",
    "\n",
    "us_plt_1 = plt.scatter(x = analysis.loc[:, \"US GDP per capita growth (%)\"][0], y = analysis.loc[:, \"US Average Fertility Rate\" ][0], c= \"steelblue\", marker = \"*\")\n",
    "us_plt_2 = plt.scatter(x = analysis.loc[:, \"US GDP per capita growth (%)\"][1], y = analysis.loc[:, \"US Average Fertility Rate\" ][1], c= \"steelblue\", marker = \"^\")\n",
    "us_plt_3 = plt.scatter(x = analysis.loc[:, \"US GDP per capita growth (%)\"][2], y = analysis.loc[:, \"US Average Fertility Rate\" ][2], c= \"steelblue\", marker = \"o\")\n",
    "\n",
    "jpn_plt_1 = plt.scatter(x = analysis.loc[:, \"Japan GDP per capita growth (%)\"][0], y = analysis.loc[:, \"Japan Average Fertility Rate\" ][0], c= \"indianred\", marker = \"*\")\n",
    "jpn_plt_2 = plt.scatter(x = analysis.loc[:, \"Japan GDP per capita growth (%)\"][1], y = analysis.loc[:, \"Japan Average Fertility Rate\" ][1], c= \"indianred\", marker = \"^\")\n",
    "jpn_plt_3 = plt.scatter(x = analysis.loc[:, \"Japan GDP per capita growth (%)\"][2], y = analysis.loc[:, \"Japan Average Fertility Rate\" ][2], c= \"indianred\", marker = \"o\")\n",
    "\n",
    "ind_plt_1 = plt.scatter(x = analysis.loc[:, \"India GDP per capita growth (%)\"][0], y = analysis.loc[:, \"India Average Fertility Rate\" ][0], c= \"seagreen\", marker = \"*\")\n",
    "ind_plt_2 = plt.scatter(x = analysis.loc[:, \"India GDP per capita growth (%)\"][1], y = analysis.loc[:, \"India Average Fertility Rate\" ][1], c= \"seagreen\", marker = \"^\")\n",
    "ind_plt_3 = plt.scatter(x = analysis.loc[:, \"India GDP per capita growth (%)\"][2], y = analysis.loc[:, \"India Average Fertility Rate\" ][2], c= \"seagreen\", marker = \"o\")\n",
    "\n",
    "plt.legend((us_plt_1, us_plt_2, us_plt_3, jpn_plt_1, jpn_plt_2, jpn_plt_3, ind_plt_1, ind_plt_2, ind_plt_3),\n",
    "           ('United States 1961-1980','United States 1981-2000', 'United States 2001-2020','Japan 1961-1980','Japan 1981-2000', 'Japan 2001-2020','India 1961-1980','India 1981-2000', 'India 2001-2020'),\n",
    "           scatterpoints=1,\n",
    "           loc='upper right',\n",
    "           fontsize=8)\n",
    "plt.xlabel(\"GDP growth over 20 Years (%)\")\n",
    "plt.ylabel(\"Average Fertility Rate over 20 Years (%)\")\n",
    "plt.title(\"GDP Growth vs Average Fertility Rate over 20 Years\")"
   ]
  },
  {
   "cell_type": "code",
   "execution_count": 17,
   "id": "7b69069c",
   "metadata": {},
   "outputs": [
    {
     "data": {
      "text/plain": [
       "Text(0, 0.5, 'Male Mortality, Deaths per 10,000')"
      ]
     },
     "execution_count": 17,
     "metadata": {},
     "output_type": "execute_result"
    },
    {
     "data": {
      "image/png": "[encoded data removed]",
      "text/plain": [
       "<Figure size 640x480 with 1 Axes>"
      ]
     },
     "metadata": {},
     "output_type": "display_data"
    }
   ],
   "source": [
    "us[\"Male Mortality\"].plot(c=\"steelblue\")\n",
    "jpn[\"Male Mortality\"].plot(c=\"indianred\")\n",
    "ind[\"Male Mortality\"].plot(c=\"seagreen\")\n",
    "plt.legend(('United States', 'Japan', 'India'),\n",
    "           scatterpoints=1,\n",
    "           loc='upper right',\n",
    "           fontsize=10)\n",
    "plt.xlabel(\"Year\")\n",
    "plt.title(\"Male Mortality over Time\")\n",
    "plt.ylabel(\"Male Mortality, Deaths per 10,000\")"
   ]
  },
  {
   "cell_type": "code",
   "execution_count": 18,
   "id": "002abadc",
   "metadata": {},
   "outputs": [
    {
     "data": {
      "text/plain": [
       "Text(0, 0.5, 'Female Mortality, Deaths per 10,000')"
      ]
     },
     "execution_count": 18,
     "metadata": {},
     "output_type": "execute_result"
    },
    {
     "data": {
      "image/png": "[encoded data removed]",
      "text/plain": [
       "<Figure size 640x480 with 1 Axes>"
      ]
     },
     "metadata": {},
     "output_type": "display_data"
    }
   ],
   "source": [
    "us[\"Female Mortality\"].plot(c=\"steelblue\")\n",
    "jpn[\"Female Mortality\"].plot(c=\"indianred\")\n",
    "ind[\"Female Mortality\"].plot(c=\"seagreen\")\n",
    "plt.legend(('United States', 'Japan', 'India'),\n",
    "           scatterpoints=1,\n",
    "           loc='upper right',\n",
    "           fontsize=10)\n",
    "plt.title(\"Female Mortality over Time\")\n",
    "plt.xlabel(\"Year\")\n",
    "plt.ylabel(\"Female Mortality, Deaths per 10,000\")"
   ]
  },
  {
   "cell_type": "code",
   "execution_count": 19,
   "id": "36408a41",
   "metadata": {},
   "outputs": [
    {
     "data": {
      "text/plain": [
       "Text(0.5, 1.0, 'US, Japan and India Net Migration over Time')"
      ]
     },
     "execution_count": 19,
     "metadata": {},
     "output_type": "execute_result"
    },
    {
     "data": {
      "image/png": "[encoded data removed]",
      "text/plain": [
       "<Figure size 640x480 with 1 Axes>"
      ]
     },
     "metadata": {},
     "output_type": "display_data"
    }
   ],
   "source": [
    "us[\"Net migration\"].plot(c=\"steelblue\")\n",
    "jpn[\"Net migration\"].plot(c=\"indianred\")\n",
    "ind[\"Net migration\"].plot(c=\"seagreen\")\n",
    "plt.legend(('United States', 'Japan', 'India'),\n",
    "           scatterpoints=1,\n",
    "           loc='upper left',\n",
    "           fontsize=10)\n",
    "plt.xlabel(\"Year\")\n",
    "plt.ylabel(\"Net Migration (total # of people in millions)\")\n",
    "plt.title(\"US, Japan and India Net Migration over Time\")"
   ]
  },
  {
   "cell_type": "code",
   "execution_count": 20,
   "id": "21cdced8",
   "metadata": {},
   "outputs": [
    {
     "data": {
      "text/plain": [
       "Text(0.5, 1.0, 'US, Japan and India Urban Population (%) over Time')"
      ]
     },
     "execution_count": 20,
     "metadata": {},
     "output_type": "execute_result"
    },
    {
     "data": {
      "image/png": "[encoded data removed]",
      "text/plain": [
       "<Figure size 640x480 with 1 Axes>"
      ]
     },
     "metadata": {},
     "output_type": "display_data"
    }
   ],
   "source": [
    "us[\"Urban Population (% of total)\"].plot(c=\"steelblue\")\n",
    "jpn[\"Urban Population (% of total)\"].plot(c=\"indianred\")\n",
    "ind[\"Urban Population (% of total)\"].plot(c=\"seagreen\")\n",
    "plt.legend(('United States', 'Japan', 'India'),\n",
    "           scatterpoints=1,\n",
    "           loc='upper left',\n",
    "           fontsize=10)\n",
    "plt.xlabel(\"Year\")\n",
    "plt.ylabel(\"Urban Population (% of total)\")\n",
    "plt.title(\"US, Japan and India Urban Population (%) over Time\")"
   ]
  },
  {
   "cell_type": "code",
   "execution_count": 21,
   "id": "2248e289",
   "metadata": {},
   "outputs": [
    {
     "data": {
      "text/plain": [
       "Text(0.5, 1.0, 'US, Japan, and India GDP per capita Over Time')"
      ]
     },
     "execution_count": 21,
     "metadata": {},
     "output_type": "execute_result"
    },
    {
     "data": {
      "image/png": "[encoded data removed]",
      "text/plain": [
       "<Figure size 640x480 with 1 Axes>"
      ]
     },
     "metadata": {},
     "output_type": "display_data"
    }
   ],
   "source": [
    "us[\"GDP per capita\"].plot(c=\"steelblue\")\n",
    "jpn[\"GDP per capita\"].plot(c=\"indianred\")\n",
    "ind[\"GDP per capita\"].plot(c=\"seagreen\")\n",
    "plt.legend(('United States', 'Japan', 'India'),\n",
    "           scatterpoints=1,\n",
    "           loc='upper left',\n",
    "           fontsize=10)\n",
    "plt.xlabel(\"Year\")\n",
    "plt.ylabel(\"GDP per Capita ($US)\")\n",
    "plt.title(\"US, Japan, and India GDP per capita Over Time\")"
   ]
  },
  {
   "cell_type": "code",
   "execution_count": 22,
   "id": "4feea001",
   "metadata": {},
   "outputs": [
    {
     "data": {
      "text/plain": [
       "Text(0.5, 1.0, 'US, Japan and India Population Over Time')"
      ]
     },
     "execution_count": 22,
     "metadata": {},
     "output_type": "execute_result"
    },
    {
     "data": {
      "image/png": "[encoded data removed]",
      "text/plain": [
       "<Figure size 640x480 with 1 Axes>"
      ]
     },
     "metadata": {},
     "output_type": "display_data"
    }
   ],
   "source": [
    "us[\"Total Population\"].plot(c=\"steelblue\")\n",
    "jpn[\"Total Population\"].plot(c=\"indianred\")\n",
    "ind[\"Total Population\"].plot(c=\"seagreen\")\n",
    "plt.legend(('United States', 'Japan', 'India'),\n",
    "           scatterpoints=1,\n",
    "           loc='upper left',\n",
    "           fontsize=10)\n",
    "plt.xlabel(\"Year\")\n",
    "plt.ylabel(\"Total Population (billions)\")\n",
    "plt.title(\"US, Japan and India Population Over Time\")"
   ]
  },
  {
   "cell_type": "markdown",
   "id": "e12db7b1",
   "metadata": {},
   "source": [
    "#### Deliverable #C World Map "
   ]
  },
  {
   "cell_type": "code",
   "execution_count": 23,
   "id": "b23c8937",
   "metadata": {},
   "outputs": [
    {
     "data": {
      "text/plain": [
       "<AxesSubplot:>"
      ]
     },
     "execution_count": 23,
     "metadata": {},
     "output_type": "execute_result"
    },
    {
     "data": {
      "image/png": "[encoded data removed]",
      "text/plain": [
       "<Figure size 640x480 with 2 Axes>"
      ]
     },
     "metadata": {},
     "output_type": "display_data"
    }
   ],
   "source": [
    "world = geopandas.read_file(geopandas.datasets.get_path('naturalearth_lowres'))\n",
    "world2 = world.drop(columns=['iso_a3', 'gdp_md_est', 'geometry', 'name'])\n",
    "population = world2.groupby('continent').sum()\n",
    "world = world[(world.pop_est>0) & (world.name!=\"Antarctica\")]\n",
    "world['gdp_per_cap'] = world.gdp_md_est / world.pop_est\n",
    "\n",
    "fix, ax = plt.subplots(1,1)\n",
    "\n",
    "world.plot(\n",
    "    column='gdp_per_cap',\n",
    "    ax=ax,\n",
    "    legend=True,\n",
    "    legend_kwds={'label': \"GDP per capita\",\n",
    "                 'orientation': \"horizontal\"},\n",
    "    figsize=(30,20),\n",
    "    cmap='magma')"
   ]
  }
 ],
 "metadata": {
  "kernelspec": {
   "display_name": "Python 3 (ipykernel)",
   "language": "python",
   "name": "python3"
  },
  "language_info": {
   "codemirror_mode": {
    "name": "ipython",
    "version": 3
   },
   "file_extension": ".py",
   "mimetype": "text/x-python",
   "name": "python",
   "nbconvert_exporter": "python",
   "pygments_lexer": "ipython3",
   "version": "3.9.15"
  }
 },
 "nbformat": 4,
 "nbformat_minor": 5
}
